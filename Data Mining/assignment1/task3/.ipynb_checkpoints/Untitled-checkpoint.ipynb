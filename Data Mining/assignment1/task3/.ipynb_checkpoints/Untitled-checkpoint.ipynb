{
 "cells": [
  {
   "cell_type": "code",
   "execution_count": null,
   "metadata": {
    "collapsed": false
   },
   "outputs": [],
   "source": [
    "def getTagsHandles(x):\n",
    "    symbols = [' ', '\\n', ',', '.', '/', '&', '?', ';', '[', ']', '!', ':', '•', '\\\\', ')']\n",
    "    index = 0\n",
    "    word = \"\"\n",
    "    hh = []\n",
    "\n",
    "    while(index < len(x)):\n",
    "        if(x[index] == \"@\" or x[index] == \"#\"):\n",
    "            if(word == \"\"):\n",
    "                word = word + x[index]\n",
    "            else:\n",
    "                if(len(word) == 1):\n",
    "                    word = \"\" + x[index]\n",
    "                else:\n",
    "                    hh.append(word)\n",
    "                    word = \"\"\n",
    "                    continue\n",
    "        elif(x[index] in symbols or ord(x[index]) == 8230):\n",
    "            if(word != \"\"):\n",
    "                hh.append(word)\n",
    "                word = \"\"\n",
    "        else:\n",
    "            if(word == \"\"):\n",
    "                index = index + 1\n",
    "                continue\n",
    "            else:\n",
    "                word = word + x[index]\n",
    "\n",
    "        index = index + 1\n",
    "    if(len(word) > 1):\n",
    "        hh.append(word)\n",
    "        \n",
    "    return (hh)"
   ]
  },
  {
   "cell_type": "code",
   "execution_count": null,
   "metadata": {
    "collapsed": false
   },
   "outputs": [],
   "source": [
    "import sys\n",
    "import time\n",
    "import winsound \n",
    "\n",
    "start = time.clock()\n",
    "f = open(\"twitter_dataset.txt\", \"r\")\n",
    "output = open(\"baskets.txt\", \"w\")\n",
    "manyOcc = 0\n",
    "geolocation = \"GeoLocation;@\"\n",
    "\n",
    "for line in f:\n",
    "    line = line.replace('\\t', \" \")\n",
    "    splittedTweet = line.split(\" \")\n",
    "    if (not(\"RT\" in splittedTweet)):\n",
    "        isEmpty = True\n",
    "        for item in splittedTweet:\n",
    "            if (\"#\" in item or \"@\" in item):\n",
    "                if(\"@\" in item):\n",
    "                    if(geolocation in item):\n",
    "                        continue\n",
    "                for element in getTagsHandles(item):\n",
    "                    isEmpty = False\n",
    "                    element = element.lower()\n",
    "                    output.write(element + \" \")\n",
    "        if(not(isEmpty)):\n",
    "            output.write(\"\\n\")\n",
    "output.close()\n",
    "end = time.clock()\n",
    "print (\"TIME = \" + str((end-start)))\n",
    "winsound.Beep(400, 2500)"
   ]
  },
  {
   "cell_type": "markdown",
   "metadata": {
    "collapsed": true
   },
   "source": [
    "Στατιστικά"
   ]
  },
  {
   "cell_type": "code",
   "execution_count": 186,
   "metadata": {
    "collapsed": false
   },
   "outputs": [
    {
     "name": "stdout",
     "output_type": "stream",
     "text": [
      "TIME: 38.70723680437368\n",
      "Total number of baskets = 1997946\n",
      "Total number of different items = 648151\n",
      "Mean number of items per basket = 3.6284979674125326\n",
      "Total number of hashtags vs handles = 2548360 vs 2703237\n",
      "Total number of different hashtags vs handles = 163261 vs 484889\n"
     ]
    }
   ],
   "source": [
    "import time\n",
    "import winsound\n",
    "\n",
    "f = open(\"baskets.txt\", \"r\")\n",
    "start = time.clock()\n",
    "numberOfBaskets = 0\n",
    "differentItems = set([])\n",
    "totalItems = 0\n",
    "numberOfHastags = 0\n",
    "hashtagDictionary = {}\n",
    "numberOfHandles = 0\n",
    "handlesDictionary = {}\n",
    "differentNumberOfHastags = {}\n",
    "differentNumberOfHandles = {}\n",
    "\n",
    "for line in f:\n",
    "    numberOfBaskets = numberOfBaskets + 1\n",
    "    x = line.split(\" \")\n",
    "    totalItems = totalItems + len(x)\n",
    "    for i in x:\n",
    "        if(\"#\" in i):\n",
    "            numberOfHastags = numberOfHastags + 1\n",
    "            if(not(i in hashtagDictionary)):\n",
    "                hashtagDictionary[i] = 1\n",
    "            else:\n",
    "                hashtagDictionary[i] = hashtagDictionary[i] + 1\n",
    "            if (i in differentNumberOfHastags.keys()):\n",
    "                differentNumberOfHastags[i] = differentNumberOfHastags[i] + 1\n",
    "            else:\n",
    "                differentNumberOfHastags[i] = 1\n",
    "        elif(\"@\" in i):\n",
    "            numberOfHandles = numberOfHandles + 1\n",
    "            if(not(i in handlesDictionary)):\n",
    "                handlesDictionary[i] = 1\n",
    "            else:\n",
    "                handlesDictionary[i] = handlesDictionary[i] + 1\n",
    "            if (i in differentNumberOfHandles.keys()):\n",
    "                differentNumberOfHandles[i] = differentNumberOfHandles[i] + 1\n",
    "            else:\n",
    "                differentNumberOfHandles[i] = 1\n",
    "        differentItems.add(i)\n",
    "        \n",
    "end = time.clock()\n",
    "f.close()\n",
    "print (\"TIME: \" + str(end-start))\n",
    "print (\"Total number of baskets = \" + str(numberOfBaskets))\n",
    "print (\"Total number of different items = \" + str(len(differentItems)))\n",
    "print (\"Mean number of items per basket = \" + str(float(totalItems)/numberOfBaskets))\n",
    "print (\"Total number of hashtags vs handles = \" + str(numberOfHastags) + \" vs \" + str(numberOfHandles))\n",
    "print (\"Total number of different hashtags vs handles = \" + str(len(differentNumberOfHastags)) + \" vs \" + str(len(differentNumberOfHandles)))\n",
    "winsound.Beep(400, 2500)"
   ]
  },
  {
   "cell_type": "code",
   "execution_count": 187,
   "metadata": {
    "collapsed": false
   },
   "outputs": [
    {
     "name": "stdout",
     "output_type": "stream",
     "text": [
      "{1: 843818, 2: 466118, 4: 142859, 3: 255370, 6: 59669, 5: 93032, 8: 28054, 7: 38701, 14: 3644, 9: 18828, 11: 9155, 10: 13475, 13: 4093, 12: 9654, 17: 1620, 16: 2702, 15: 3743, 18: 1167, 19: 803, 20: 585, 21: 250, 24: 83, 23: 112, 22: 255, 29: 19, 28: 14, 25: 68, 26: 24, 27: 11, 32: 14, 33: 1, 30: 4, 31: 1}\n"
     ]
    }
   ],
   "source": [
    "import operator\n",
    "import numpy as np\n",
    "import winsound\n",
    "\n",
    "file = open(\"baskets.txt\", \"r\")\n",
    "sizeDictionary = {}\n",
    "\n",
    "for line in file:\n",
    "    splitedLine = line.split(\" \")\n",
    "    size  = len(splitedLine) - 1\n",
    "    if(not(size in sizeDictionary.keys())):\n",
    "        sizeDictionary[size] = 1\n",
    "    else:\n",
    "        sizeDictionary[size] = sizeDictionary[size] + 1\n",
    "        \n",
    "print(sizeDictionary)\n",
    "winsound.Beep(400, 2500)"
   ]
  },
  {
   "cell_type": "markdown",
   "metadata": {},
   "source": [
    "Ιστόγραμμα του μεγέθους των καλαθιών σε μορφή ποσοστού σε σχέση με το #των συνολικών καλαθιών \n",
    "Συμπέρασμα: Ότι το 40% των συνολικών καλαθιών έχουν 1 μόνο hastag ή handle."
   ]
  },
  {
   "cell_type": "code",
   "execution_count": 188,
   "metadata": {
    "collapsed": false
   },
   "outputs": [
    {
     "data": {
      "image/png": "[encoded data removed]",
      "text/plain": [
       "<matplotlib.figure.Figure at 0x180b228d208>"
      ]
     },
     "metadata": {},
     "output_type": "display_data"
    }
   ],
   "source": [
    "import matplotlib.pyplot as plt\n",
    "\n",
    "sizeDictionary1 = sorted(sizeDictionary.items())\n",
    "pososta = {}\n",
    "for i in sizeDictionary1:\n",
    "    pososta[i[0]] = (i[1]/numberOfBaskets)*100\n",
    "\n",
    "pososta1 = sorted(pososta.items())\n",
    "x, y = zip(*pososta1)\n",
    "plt.plot(x, y)\n",
    "plt.show()"
   ]
  },
  {
   "cell_type": "markdown",
   "metadata": {},
   "source": [
    "Ιστόγραμμα του μεγέθους των καλαθιών\n",
    "Συμπέρασμα: Ότι περίπου 800.000 καλάθια έχουν 1 μόνο hashtag ή handle μέσα στο καλάθι τους"
   ]
  },
  {
   "cell_type": "code",
   "execution_count": 189,
   "metadata": {
    "collapsed": false
   },
   "outputs": [
    {
     "data": {
      "image/png": "[encoded data removed]",
      "text/plain": [
       "<matplotlib.figure.Figure at 0x180b10233c8>"
      ]
     },
     "metadata": {},
     "output_type": "display_data"
    }
   ],
   "source": [
    "import matplotlib.pyplot as plt\n",
    "\n",
    "lists = sorted(sizeDictionary.items())\n",
    "x, y = zip(*lists)\n",
    "plt.plot(x, y)\n",
    "plt.show()"
   ]
  },
  {
   "cell_type": "markdown",
   "metadata": {},
   "source": [
    "Γράφημα για το # hashtags vs handles(υπάρχουν και διπλότυπα)\n",
    "Συμπέρασμα:Ότι οι χρήστες έχουν χρησιμοποιήσει περισσότερο handles σε σχέση με hashtags"
   ]
  },
  {
   "cell_type": "code",
   "execution_count": 190,
   "metadata": {
    "collapsed": false
   },
   "outputs": [
    {
     "data": {
      "image/png": "[encoded data removed]",
      "text/plain": [
       "<matplotlib.figure.Figure at 0x1809b5cd128>"
      ]
     },
     "metadata": {},
     "output_type": "display_data"
    }
   ],
   "source": [
    "import matplotlib.pyplot as plt\n",
    "\n",
    "labels = 'Hashtags', 'Handles'\n",
    "sizes = [numberOfHastags, numberOfHandles]\n",
    "explode = (0, 0.1)\n",
    "fig1, ax1 = plt.subplots()\n",
    "ax1.pie(sizes, explode=explode, labels=labels, autopct='%1.1f%%',shadow=True, startangle=90)\n",
    "ax1.axis('equal')\n",
    "\n",
    "plt.show()"
   ]
  },
  {
   "cell_type": "markdown",
   "metadata": {},
   "source": [
    "Γράφημα για το # διαφορετικών hashtags vs handles(δεν υπάρχουν και διπλότυπα)\n",
    "Συμπέρασμα:Ότι οι χρήστες έχουν χρησιμοποιήσει περισσότερο διαφορετικά handles σε σχέση με hashtags."
   ]
  },
  {
   "cell_type": "code",
   "execution_count": 191,
   "metadata": {
    "collapsed": false
   },
   "outputs": [
    {
     "data": {
      "image/png": "[encoded data removed]",
      "text/plain": [
       "<matplotlib.figure.Figure at 0x1809f7fed30>"
      ]
     },
     "metadata": {},
     "output_type": "display_data"
    }
   ],
   "source": [
    "import matplotlib.pyplot as plt\n",
    "\n",
    "labels = 'Hashtags', 'Handles'\n",
    "sizes = [len(differentNumberOfHastags), len(differentNumberOfHandles)]\n",
    "explode = (0, 0.1)\n",
    "fig1, ax1 = plt.subplots()\n",
    "ax1.pie(sizes, explode=explode, labels=labels, autopct='%1.1f%%',shadow=True, startangle=90)\n",
    "ax1.axis('equal')\n",
    "\n",
    "plt.show()"
   ]
  },
  {
   "cell_type": "markdown",
   "metadata": {},
   "source": [
    "Γράφημα για 10 πιο συχνά hashtags"
   ]
  },
  {
   "cell_type": "code",
   "execution_count": 192,
   "metadata": {
    "collapsed": false
   },
   "outputs": [
    {
     "name": "stdout",
     "output_type": "stream",
     "text": [
      "('#maga', 53777)\n",
      "('#trump', 30127)\n",
      "('#trump2016', 26846)\n",
      "('#tcot', 23892)\n",
      "('#neverhillary', 21264)\n",
      "('#pjnet', 20696)\n",
      "('#trumptrain', 17596)\n",
      "('#2a', 16314)\n",
      "('#draintheswamp', 13873)\n",
      "('#makeamericagreatagain', 13540)\n"
     ]
    }
   ],
   "source": [
    "import matplotlib.pyplot as plt\n",
    "import operator\n",
    "\n",
    "sorted_hashtags = sorted(hashtagDictionary.items(), key=operator.itemgetter(1))\n",
    "sorted_hashtags = sorted_hashtags[::-1]\n",
    "for i in range (10):\n",
    "    print (sorted_hashtags[i])"
   ]
  },
  {
   "cell_type": "markdown",
   "metadata": {},
   "source": [
    "Γράφημα για 10 πιο συχνά handles"
   ]
  },
  {
   "cell_type": "code",
   "execution_count": 193,
   "metadata": {
    "collapsed": false
   },
   "outputs": [
    {
     "name": "stdout",
     "output_type": "stream",
     "text": [
      "('@realdonaldtrump', 60720)\n",
      "('@youtube', 51772)\n",
      "('@hillaryclinton', 39554)\n",
      "('@foxnews', 27241)\n",
      "('@gmail', 24293)\n",
      "('@megynkelly', 18764)\n",
      "('@cnn', 14429)\n",
      "('@seanhannity', 10997)\n",
      "('@newtgingrich', 9484)\n",
      "('@wikileaks', 8282)\n"
     ]
    }
   ],
   "source": [
    "import matplotlib.pyplot as plt\n",
    "import operator\n",
    "\n",
    "sorted_handles = sorted(handlesDictionary.items(), key=operator.itemgetter(1))\n",
    "sorted_handles = sorted_handles[::-1]\n",
    "\n",
    "for i in range (10):\n",
    "    print (sorted_handles[i])"
   ]
  },
  {
   "cell_type": "code",
   "execution_count": 24,
   "metadata": {
    "collapsed": false
   },
   "outputs": [],
   "source": [
    "f = open('baskets.txt', 'r')\n",
    "\n",
    "c = 0\n",
    "d = {}\n",
    "\n",
    "for line in f:\n",
    "    line = line.replace(\"\\n\", \"\")\n",
    "    \n",
    "    x = line.split(\" \")\n",
    "    \n",
    "    for e in x:\n",
    "        if e == \"\": continue\n",
    "        if e in d.keys():\n",
    "            d[e].add(c)\n",
    "        else:\n",
    "            d[e] = set([])\n",
    "            d[e].add(c)\n",
    "        \n",
    "    c += 1\n",
    "        \n",
    "f.close()"
   ]
  },
  {
   "cell_type": "code",
   "execution_count": 25,
   "metadata": {
    "collapsed": false
   },
   "outputs": [],
   "source": [
    "numberOfBaskets = 1997946\n",
    "threshold = ((0.05)/100) * numberOfBaskets\n",
    "remain = []\n",
    "\n",
    "for key, list_ in d.items():\n",
    "    if len(list_) > threshold:\n",
    "        remain.append(key)\n",
    "d_new = {}\n",
    "\n",
    "for key in remain:\n",
    "    d_new[key] = set(d[key])\n",
    "    del d[key]\n",
    "d.clear()"
   ]
  },
  {
   "cell_type": "code",
   "execution_count": 26,
   "metadata": {
    "collapsed": true
   },
   "outputs": [],
   "source": [
    "sets = {}\n",
    "prevSets = {}\n",
    "\n",
    "def clearSets():\n",
    "    sets = {}\n",
    "    prevSets = {}"
   ]
  },
  {
   "cell_type": "code",
   "execution_count": 27,
   "metadata": {
    "collapsed": false
   },
   "outputs": [
    {
     "name": "stdout",
     "output_type": "stream",
     "text": [
      "Size: 1, Maximals: 297\n",
      "Size: 2 Maximals: 101\n",
      "3 460\n",
      "TIME: 17.387192730895208\n",
      "Size: 3 Maximals: 21\n",
      "4 770\n",
      "TIME: 24.815947353327374\n",
      "Size: 4 Maximals: 1\n",
      "5 1066\n",
      "TIME: 43.727020965088286\n",
      "Size: 5 Maximals: 4\n",
      "6 1137\n",
      "TIME: 64.31879069627041\n",
      "Size: 6 Maximals: 3\n",
      "7 912\n",
      "TIME: 65.73344059891633\n",
      "Size: 7 Maximals: 0\n",
      "8 540\n",
      "TIME: 53.51462484717683\n",
      "Size: 8 Maximals: 0\n",
      "9 230\n",
      "TIME: 30.681360844037272\n",
      "Size: 9 Maximals: 0\n",
      "10 67\n",
      "TIME: 13.13684572774082\n",
      "Size: 10 Maximals: 1\n",
      "11 12\n",
      "TIME: 3.614294296107346\n",
      "Size: 11 Maximals: 0\n",
      "12 1\n",
      "TIME: 0.7113241664528687\n",
      "Size: 12 Maximals: 1\n",
      "13 0\n",
      "TIME: 0.07927731574409336\n"
     ]
    }
   ],
   "source": [
    "import winsound\n",
    "import sys\n",
    "import time\n",
    "\n",
    "def findTwo():\n",
    "    global prevSets\n",
    "    maximal = 0\n",
    "    isMaximal = [True]*len(remain)\n",
    "    maximalFile = open(\"maximal_size1.txt\", \"w\")\n",
    "    for i in range(len(remain)):\n",
    "        for j in range(i+1, len(remain)):\n",
    "            intersect = d_new[remain[i]].intersection(d_new[remain[j]])\n",
    "            if len(intersect) > threshold:\n",
    "                prevSets[tuple(sorted([remain[i], remain[j]]))] = intersect\n",
    "                isMaximal[i] = False\n",
    "                isMaximal[j] = False\n",
    "                \n",
    "        if isMaximal[i]:\n",
    "            maximalFile.write(str(remain[i]))\n",
    "            maximalFile.write(\"\\n\")\n",
    "            maximal += 1\n",
    "    print(\"Size: 1, Maximals: \" + str(maximal))\n",
    "    maximalFile.close()\n",
    "\n",
    "def findFrequent(size):\n",
    "    global sets, prevSets\n",
    "    notMaximal = {}\n",
    "    file = open(\"freq_\" + str(size) + \".txt\", \"w\")\n",
    "    maximalFile = open(\"maximal_size\" + str(size-1) + \".txt\", \"w\")\n",
    "    sets = {}\n",
    "    for key in prevSets.keys():\n",
    "        for j in remain:\n",
    "            if j in key: \n",
    "                continue\n",
    "\n",
    "            intersect = prevSets[key].intersection(d_new[j])\n",
    "            if len(intersect) < threshold: \n",
    "                continue\n",
    "\n",
    "            key_ = tuple(sorted(key + tuple([j])))\n",
    "            if key_ not in sets.keys():\n",
    "                file.write(str(key_))\n",
    "                file.write(\"\\n\")\n",
    "            sets[key_] = intersect\n",
    "            notMaximal[key] = False\n",
    "    print(\"Size: \" + str(size-1) + \" Maximals: \" + str(len(prevSets)-len(notMaximal)))\n",
    "    \n",
    "    file.close()\n",
    "    for key in prevSets.keys():\n",
    "        if key not in notMaximal.keys():\n",
    "            maximalFile.write(str(key))\n",
    "            maximalFile.write(\"\\n\")\n",
    "    prevSets = sets\n",
    "    maximalFile.close()\n",
    "\n",
    "clearSets()\n",
    "findTwo()\n",
    "\n",
    "k = 3\n",
    "\n",
    "while(len(prevSets) > 0):\n",
    "    start = time.clock()\n",
    "    findFrequent(k)\n",
    "    print(str(k) + \" \" + str(len(prevSets)))\n",
    "    k += 1\n",
    "    print (\"TIME: \" + str(time.clock()-start))\n",
    "    winsound.Beep(400, 2500)"
   ]
  },
  {
   "cell_type": "markdown",
   "metadata": {},
   "source": [
    "Στατιστικά, για όλα τα threshold"
   ]
  },
  {
   "cell_type": "markdown",
   "metadata": {},
   "source": [
    "Ποσοστό για το πόσο % είναι maximal σε σχέση με τα συνολικά καλάθια ανά μέγεθος"
   ]
  },
  {
   "cell_type": "code",
   "execution_count": 39,
   "metadata": {
    "collapsed": false
   },
   "outputs": [
    {
     "data": {
      "image/png": "[encoded data removed]",
      "text/plain": [
       "<matplotlib.figure.Figure at 0x294364e3dd8>"
      ]
     },
     "metadata": {},
     "output_type": "display_data"
    }
   ],
   "source": [
    "import matplotlib.pyplot as plt\n",
    "\n",
    "maxmax = []\n",
    "maxfreq = []\n",
    "\n",
    "#orange\n",
    "maximalList002 = [814, 273, 90, 23, 11, 10, 5, 6, 1, 3, 1, 3, 0, 1]\n",
    "frequentList002 = [1312, 1498, 2562, 4363, 6225, 7163, 6587, 4803, 2748, 1213, 401, 94, 14, 1]\n",
    "pososto002 = []\n",
    "xs002 = []\n",
    "maxmax.append(sum(maximalList002))\n",
    "maxfreq.append(sum(frequentList002))\n",
    "\n",
    "#blue\n",
    "maximalList003 = [530, 158, 47, 6, 6, 8, 1, 2, 0, 3, 1, 3, 0, 1]\n",
    "frequentList003 = [826, 969, 1959, 3768, 5782, 6938, 6515, 4790, 2747, 1213, 401, 94, 14, 1]\n",
    "pososto003 = []\n",
    "xs003 = []\n",
    "maxmax.append(sum(maximalList003))\n",
    "maxfreq.append(sum(frequentList003))\n",
    "\n",
    "#green\n",
    "maximalList004 = [372, 129, 33, 3, 6, 5, 1, 1, 0, 1, 0, 1, 0, 0]\n",
    "frequentList004 = [561, 491, 628, 916, 1157, 1164, 921, 541, 230, 67, 12, 1, 1, 1]\n",
    "pososto004 = []\n",
    "xs004 = []\n",
    "maxmax.append(sum(maximalList004))\n",
    "maxfreq.append(sum(frequentList004))\n",
    "\n",
    "#red\n",
    "maximalList005 = [297, 101, 21, 1, 4, 3, 0, 0, 0, 1, 0, 1, 0, 0]\n",
    "frequentList005 = [427, 338, 460, 770, 1066, 1137, 912, 540, 230, 67, 12, 1, 1, 1]\n",
    "pososto005 = []\n",
    "xs005 = []\n",
    "maxmax.append(sum(maximalList005))\n",
    "maxfreq.append(sum(frequentList005))\n",
    "\n",
    "for i in range(len(maximalList002)):\n",
    "    xs002.append(i + 1)\n",
    "    pososto002.append((float(maximalList002[i])/float(frequentList002[i]))*100)\n",
    "    pososto003.append((maximalList003[i]/float(frequentList003[i]))*100)\n",
    "    pososto004.append((maximalList004[i]/float(frequentList004[i]))*100)\n",
    "    pososto005.append((maximalList005[i]/float(frequentList005[i]))*100)\n",
    "    \n",
    "xs003 = xs002\n",
    "xs004 = xs002\n",
    "xs005 = xs002\n",
    "plt.plot(xs002, pososto002, xs003, pososto003, xs004, pososto004, xs005, pososto005)\n",
    "plt.show()"
   ]
  },
  {
   "cell_type": "code",
   "execution_count": 43,
   "metadata": {
    "collapsed": false
   },
   "outputs": [
    {
     "data": {
      "image/png": "[encoded data removed]",
      "text/plain": [
       "<matplotlib.figure.Figure at 0x2942df3fc18>"
      ]
     },
     "metadata": {},
     "output_type": "display_data"
    }
   ],
   "source": [
    "import matplotlib.pyplot as plt\n",
    "\n",
    "yaxis= []\n",
    "xaxis = [0.02, 0.03, 0.04, 0.05]\n",
    "\n",
    "for i in range(len(maxmax)):\n",
    "    yaxis.append((maxmax[i]/float(maxfreq[i]))*100)\n",
    "\n",
    "plt.plot(xaxis, yaxis)\n",
    "plt.show()"
   ]
  },
  {
   "cell_type": "code",
   "execution_count": null,
   "metadata": {
    "collapsed": true
   },
   "outputs": [],
   "source": []
  }
 ],
 "metadata": {
  "kernelspec": {
   "display_name": "Python 3",
   "language": "python",
   "name": "python3"
  },
  "language_info": {
   "codemirror_mode": {
    "name": "ipython",
    "version": 3
   },
   "file_extension": ".py",
   "mimetype": "text/x-python",
   "name": "python",
   "nbconvert_exporter": "python",
   "pygments_lexer": "ipython3",
   "version": "3.6.0"
  }
 },
 "nbformat": 4,
 "nbformat_minor": 2
}
