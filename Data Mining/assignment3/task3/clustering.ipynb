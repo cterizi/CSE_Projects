{
 "cells": [
  {
   "cell_type": "markdown",
   "metadata": {},
   "source": [
    "H synarthsh \"getTagsHandles(x)\" pairnei san orisma mia grammh apo to arxeio kai epistrefei ta hashtags/handles ta opoia periexei"
   ]
  },
  {
   "cell_type": "code",
   "execution_count": 1,
   "metadata": {
    "collapsed": true
   },
   "outputs": [],
   "source": [
    "def getTagsHandles(x):\n",
    "    symbols = [' ', '\\n', ',', '.', '/', '//', '&', '?', ';', '[', ']', '!', ':', '•', '\\\\', ')']\n",
    "    index = 0\n",
    "    word = \"\"\n",
    "    hh = []\n",
    "    \n",
    "    while(index < len(x)):\n",
    "        if(x[index] == \"@\" or x[index] == \"#\"):\n",
    "            if(word == \"\"):\n",
    "                word = word + x[index]\n",
    "            else:\n",
    "                if(len(word) == 1):\n",
    "                    word = \"\" + x[index]\n",
    "                else:\n",
    "                    hh.append(word)\n",
    "                    word = \"\"\n",
    "                    continue\n",
    "        elif(x[index] in symbols or ord(x[index]) == 8230):\n",
    "            if(word != \"\"):\n",
    "                hh.append(word)\n",
    "                word = \"\"\n",
    "        else:\n",
    "            if(word == \"\"):\n",
    "                index = index + 1\n",
    "                continue\n",
    "            else:\n",
    "                word = word + x[index]\n",
    "\n",
    "        index = index + 1\n",
    "    if(len(word) > 1):\n",
    "        hh.append(word)\n",
    "        \n",
    "    return (hh)"
   ]
  },
  {
   "cell_type": "markdown",
   "metadata": {},
   "source": [
    "Diavazei olo to arxeio kai mesa sto lexiko \"userName\" apothikeyei olous tous xrhstes san kleidi kai san timh autwn twn kleidiwn einai mia lista me ola ta hashtags/handles ta opoia exoyn xrhsimopoihsei"
   ]
  },
  {
   "cell_type": "code",
   "execution_count": 2,
   "metadata": {
    "collapsed": false
   },
   "outputs": [
    {
     "name": "stdout",
     "output_type": "stream",
     "text": [
      "TIME: 782.2662324920924\n",
      "\n",
      "Number of total users: 164712\n",
      "Number of total hashtags/handles: 639961\n"
     ]
    }
   ],
   "source": [
    "import winsound\n",
    "import time\n",
    "import sys\n",
    "\n",
    "file = open(\"clinton_trump_tweets.txt\", \"r\")\n",
    "userName = {}\n",
    "username = \"\"\n",
    "geolocation = \"GeoLocation;@\"\n",
    "dictionaryForHashtagsHandles = {}\n",
    "ids = {}\n",
    "\n",
    "start = time.clock()\n",
    "\n",
    "for line in file:\n",
    "    line = line.replace('\\n', \"\")\n",
    "    splittedTweet = line.split(\"\\t\")\n",
    "    if(\"RT\" in splittedTweet[-1]):\n",
    "        continue\n",
    "    if(not(splittedTweet[1] in userName)):\n",
    "        userName[splittedTweet[1]] = []\n",
    "    hhList = getTagsHandles(splittedTweet[-1])\n",
    "    for hh in hhList:\n",
    "        userName[splittedTweet[1]].append(hh)\n",
    "        if(hh in dictionaryForHashtagsHandles):\n",
    "            dictionaryForHashtagsHandles[hh] = dictionaryForHashtagsHandles[hh] + 1\n",
    "        else:\n",
    "            dictionaryForHashtagsHandles[hh] = 1\n",
    "file.close()\n",
    "end = time.clock()\n",
    "print(\"TIME: \" + str(end - start) + \"\\n\")\n",
    "print(\"Number of total users: \" + str(len(userName)))\n",
    "print(\"Number of total hashtags/handles: \" + str(len(dictionaryForHashtagsHandles)))\n",
    "winsound.Beep(450, 2000)"
   ]
  },
  {
   "cell_type": "markdown",
   "metadata": {},
   "source": [
    "Prwto kladema gia tous xrhstes"
   ]
  },
  {
   "cell_type": "code",
   "execution_count": 3,
   "metadata": {
    "collapsed": false
   },
   "outputs": [
    {
     "name": "stdout",
     "output_type": "stream",
     "text": [
      "Number of total users after first pruning: 16179\n"
     ]
    }
   ],
   "source": [
    "import winsound\n",
    "\n",
    "firstUserPruning = {}\n",
    "\n",
    "for user in userName:\n",
    "    if(len(set(userName[user])) > 20):\n",
    "        firstUserPruning[user] = list(set(userName[user]))\n",
    "\n",
    "print(\"Number of total users after first pruning: \" + str(len(firstUserPruning)))\n",
    "winsound.Beep(450, 2000)"
   ]
  },
  {
   "cell_type": "markdown",
   "metadata": {},
   "source": [
    "Prwto kladema gia ta hashtag/handle"
   ]
  },
  {
   "cell_type": "code",
   "execution_count": 4,
   "metadata": {
    "collapsed": false
   },
   "outputs": [
    {
     "name": "stdout",
     "output_type": "stream",
     "text": [
      "Number of total hashtag/handle after first pruning: 5998\n"
     ]
    }
   ],
   "source": [
    "import winsound \n",
    "\n",
    "realCrowdOfHashtagsHandles = {}\n",
    "\n",
    "for user in userName:\n",
    "    setOfUserList = set(userName[user])\n",
    "    for hashtagHandle in setOfUserList:\n",
    "        if(hashtagHandle in realCrowdOfHashtagsHandles):\n",
    "            realCrowdOfHashtagsHandles[hashtagHandle] = realCrowdOfHashtagsHandles[hashtagHandle] + 1\n",
    "        else:\n",
    "            realCrowdOfHashtagsHandles[hashtagHandle] = 1\n",
    "\n",
    "firstHashtagHandlePruning = {}\n",
    "\n",
    "for hashtagHandle in realCrowdOfHashtagsHandles:\n",
    "    if(realCrowdOfHashtagsHandles[hashtagHandle] > 20):\n",
    "        firstHashtagHandlePruning[hashtagHandle] = realCrowdOfHashtagsHandles[hashtagHandle]\n",
    "\n",
    "print(\"Number of total hashtag/handle after first pruning: \" + str(len(firstHashtagHandlePruning)))\n",
    "winsound.Beep(450, 2000)"
   ]
  },
  {
   "cell_type": "markdown",
   "metadata": {},
   "source": [
    "Epanalhptiko kladema"
   ]
  },
  {
   "cell_type": "code",
   "execution_count": 5,
   "metadata": {
    "collapsed": false
   },
   "outputs": [
    {
     "name": "stdout",
     "output_type": "stream",
     "text": [
      "Before HH: 2\n",
      "After HH: 1\n",
      "Before users: 16179\n",
      "After users: 4370\n",
      "-----------------\n",
      "\n",
      "Before HH: 5998\n",
      "After HH: 2104\n",
      "Before users: 4370\n",
      "After users: 3303\n",
      "-----------------\n",
      "\n",
      "Before HH: 2104\n",
      "After HH: 1836\n",
      "Before users: 3303\n",
      "After users: 3156\n",
      "-----------------\n",
      "\n",
      "Before HH: 1836\n",
      "After HH: 1783\n",
      "Before users: 3156\n",
      "After users: 3118\n",
      "-----------------\n",
      "\n",
      "Before HH: 1783\n",
      "After HH: 1768\n",
      "Before users: 3118\n",
      "After users: 3111\n",
      "-----------------\n",
      "\n",
      "Before HH: 1768\n",
      "After HH: 1765\n",
      "Before users: 3111\n",
      "After users: 3108\n",
      "-----------------\n",
      "\n",
      "Before HH: 1765\n",
      "After HH: 1765\n",
      "Before users: 3108\n",
      "After users: 3108\n",
      "-----------------\n",
      "\n"
     ]
    }
   ],
   "source": [
    "import winsound\n",
    "\n",
    "newSizeOfHashtagHandle = 1\n",
    "sizeOfHashtagHandleList = 2\n",
    "\n",
    "while(newSizeOfHashtagHandle < sizeOfHashtagHandleList or afterSize < beforeSize):\n",
    "    print(\"Before HH: \" + str(sizeOfHashtagHandleList))\n",
    "    print(\"After HH: \" + str(newSizeOfHashtagHandle))\n",
    "    print(\"Before users: \" + str(len(firstUserPruning)))\n",
    "    beforeSize = len(firstUserPruning)\n",
    "    \n",
    "    #synolo me ta hashtags/handles\n",
    "    hashtagHandleList  = set(list(firstHashtagHandlePruning.keys()))\n",
    "    sizeOfHashtagHandleList = len(hashtagHandleList)\n",
    "    #vriskw gia kathe xrhsth tin kainouria lista apo hashtag/handle ta opoia exoun >20 plithos\n",
    "    for user in firstUserPruning:\n",
    "        pastList = set(firstUserPruning[user])\n",
    "        newList = []\n",
    "        for hh in pastList:\n",
    "            if(hh in hashtagHandleList):\n",
    "                newList.append(hh)\n",
    "        firstUserPruning[user] = newList\n",
    "\n",
    "    #Petaw tous xrhstes pou exoun <= 20 plithos apo diaforetika hashtag/handle\n",
    "    nameList = []\n",
    "    for user in firstUserPruning:\n",
    "        if(len(set(firstUserPruning[user])) <= 20):\n",
    "            nameList.append(user)\n",
    "\n",
    "    #diagrafw tous xrhstes me <= 20 plithos apo diafoertika hashtags/handles\n",
    "    for names in nameList:\n",
    "        firstUserPruning.pop(names, None)\n",
    "    \n",
    "    print(\"After users: \" + str(len(firstUserPruning)))\n",
    "    afterSize = len(firstUserPruning)\n",
    "    \n",
    "    #ypologizw to neo plithos twn hashtag/handles\n",
    "    firstHashtagHandlePruning = {}\n",
    "    for user in firstUserPruning:\n",
    "        hhList = firstUserPruning[user]\n",
    "        for hh in hhList:\n",
    "            if(hh in firstHashtagHandlePruning):\n",
    "                firstHashtagHandlePruning[hh] = firstHashtagHandlePruning[hh] + 1\n",
    "            else:\n",
    "                firstHashtagHandlePruning[hh] = 1\n",
    "\n",
    "    #petaw ta hashtag/handles pou exoun plithos <= 20\n",
    "    newSizeOfHashtagHandle = 0\n",
    "    removeList = []\n",
    "    for hh in firstHashtagHandlePruning:\n",
    "        if(firstHashtagHandlePruning[hh] <= 20):\n",
    "            removeList.append(hh)\n",
    "        else:\n",
    "            newSizeOfHashtagHandle = newSizeOfHashtagHandle + 1\n",
    "\n",
    "    #diagrafw auta ta hashtag/handle\n",
    "    for hh in removeList:\n",
    "        firstHashtagHandlePruning.pop(hh, None)\n",
    "    \n",
    "    print(\"-----------------\\n\")\n",
    "\n",
    "winsound.Beep(450, 2000)"
   ]
  },
  {
   "cell_type": "markdown",
   "metadata": {},
   "source": [
    "Kanw import kapoies vivliothikes pou isws mou xreiastounimport"
   ]
  },
  {
   "cell_type": "code",
   "execution_count": 6,
   "metadata": {
    "collapsed": false
   },
   "outputs": [],
   "source": [
    "import numpy as np\n",
    "import scipy as sp\n",
    "import scipy.sparse as sp_sparse\n",
    "import scipy.spatial.distance as sp_dist\n",
    "\n",
    "import matplotlib.pyplot as plt\n",
    "\n",
    "import sklearn as sk\n",
    "import sklearn.datasets as sk_data\n",
    "import sklearn.metrics as metrics\n",
    "from sklearn import preprocessing\n",
    "import sklearn.cluster as sk_cluster\n",
    "import sklearn.feature_extraction.text as sk_text\n",
    "\n",
    "\n",
    "import scipy.cluster.hierarchy as hr\n",
    "\n",
    "import time\n",
    "import seaborn as sns\n",
    "\n",
    "#%matplotlib inline\n",
    "import sklearn.cluster as sk_cluster"
   ]
  },
  {
   "cell_type": "code",
   "execution_count": 19,
   "metadata": {
    "collapsed": false
   },
   "outputs": [],
   "source": [
    "from sklearn.feature_extraction import DictVectorizer"
   ]
  },
  {
   "cell_type": "markdown",
   "metadata": {},
   "source": [
    "Ftiaxnw ena lexiko ths morfhs: {'user':{'hashtag/handle':frequent}}"
   ]
  },
  {
   "cell_type": "code",
   "execution_count": 7,
   "metadata": {
    "collapsed": false
   },
   "outputs": [],
   "source": [
    "import winsound\n",
    "\n",
    "userDictHHDict = {}\n",
    "\n",
    "for user in firstUserPruning:\n",
    "    userDictHHDict[user] = {}\n",
    "    hhList = firstUserPruning[user]\n",
    "    originalList = userName[user]\n",
    "    for hh in hhList:\n",
    "        counter = originalList.count(hh)\n",
    "        userDictHHDict[user][hh] = counter\n",
    "\n",
    "winsound.Beep(450, 2000)"
   ]
  },
  {
   "cell_type": "code",
   "execution_count": 8,
   "metadata": {
    "collapsed": false
   },
   "outputs": [
    {
     "name": "stdout",
     "output_type": "stream",
     "text": [
      "robert2266 : {'#Haiti': 1, '@': 1, '@TIME': 1, '#Election2016': 1, '#ClimateChange': 2, '#Russia': 1, '#Republicans': 1, '#HillaryClinton': 3, '#healthcare': 8, '#Trumps': 1, '#corruption': 2, '#Obamacare': 2, '#Syria': 8, '#Italy': 2, '#truth': 1, '#DNC': 1, '#Wikileaks': 2, '#China': 3, '#Nevada': 1, '#Aleppo': 5, '#Iran': 1, '#NoDAPL': 5, '#GOP': 1, '#JamesComey': 2, '#US': 2, '#Periscope': 1, '#Florida': 2, '#America': 1, '#PodestaEmails': 1, '#WakeUpAmerica': 7, '#Putin': 1, '#election2016': 4, '#TrumpPence': 1, '#Halloween': 1, '#ISIS': 3, '#DAPL': 6, '#economy': 1, '#Americans': 4, '#halloween': 3, '#Clintons': 1, '#Turkey': 1, '#DonaldTrump': 2, '#politics': 2, '#FBI': 5, '#Israel': 2, '#BREAKING': 1, '#Trump': 2, '#Clinton': 5, '#tcot': 12}\n"
     ]
    }
   ],
   "source": [
    "for user in userDictHHDict:\n",
    "    print(user + \" : \" + str(userDictHHDict[user]))\n",
    "    break"
   ]
  },
  {
   "cell_type": "markdown",
   "metadata": {},
   "source": [
    "Ftiaxnw 2 listes mia gia ta hashtags/handles me ola ta hashtags/handles wste na ta exw se mia seira, kai allh mmia gia ta onomata. Ousiastika gia na xerw me poia seira tha einai. Thewritika, ston yaxis einai ta hashtahs/handles me tin seira opws emfanizontai sth lista \"hhInSeries\" kai ston xaxis einai oi users me thn seira pou emfanizontai sth lista \"namesInSeries\""
   ]
  },
  {
   "cell_type": "code",
   "execution_count": 9,
   "metadata": {
    "collapsed": false
   },
   "outputs": [
    {
     "name": "stdout",
     "output_type": "stream",
     "text": [
      "['#Haiti', '@', '@TIME', '#Election2016', '#ClimateChange']\n",
      "['robert2266', 'CaptainNormal', 'UnBitterEnd2013', 'Jodyjtaylor', 'DonKeehotey']\n"
     ]
    }
   ],
   "source": [
    "import winsound\n",
    "\n",
    "hhInSeries = []\n",
    "namesInSeries = []\n",
    "\n",
    "hhInSeries = list(firstHashtagHandlePruning.keys())\n",
    "namesInSeries = list(userDictHHDict.keys())\n",
    "\n",
    "print(hhInSeries[0:5])\n",
    "print(namesInSeries[0:5])\n",
    "winsound.Beep(450, 2000)"
   ]
  },
  {
   "cell_type": "markdown",
   "metadata": {},
   "source": [
    "Fiaxnw mia lista thn \"hashtagHandleVectors\", opou px h 0 thesh tha antistoixei sto hashtag/handle ths listas \"hhInSeries\" sthn thesh 0"
   ]
  },
  {
   "cell_type": "code",
   "execution_count": 10,
   "metadata": {
    "collapsed": false
   },
   "outputs": [
    {
     "name": "stdout",
     "output_type": "stream",
     "text": [
      "TIME: 7.354459848713077\n"
     ]
    }
   ],
   "source": [
    "import winsound\n",
    "\n",
    "hashtagHandleVector = []\n",
    "\n",
    "start = time.clock()\n",
    "for hh in hhInSeries:\n",
    "    hashtagHandleVector.append([0]*len(namesInSeries))\n",
    "\n",
    "for user in userDictHHDict:\n",
    "    userName = user\n",
    "    indexUser = namesInSeries.index(userName)\n",
    "    listOfHHKeys = list(userDictHHDict[user].keys())\n",
    "    listOfHHValues = list(userDictHHDict[user].values())\n",
    "    for hh in range(len(listOfHHKeys)):\n",
    "        indexHH = hhInSeries.index(listOfHHKeys[hh])\n",
    "        hashtagHandleVector[indexHH][indexUser] = listOfHHValues[hh]\n",
    "end = time.clock()\n",
    "\n",
    "print(\"TIME: \" + str(end - start))\n",
    "winsound.Beep(450, 2000)"
   ]
  },
  {
   "cell_type": "markdown",
   "metadata": {},
   "source": [
    "Kanonikopoihsh dedomenwn, tha diairesw me to max toy dianysmatos"
   ]
  },
  {
   "cell_type": "code",
   "execution_count": 16,
   "metadata": {
    "collapsed": false
   },
   "outputs": [],
   "source": [
    "for vector in range(len(hashtagHandleVector)):\n",
    "    maxValue = max(hashtagHandleVector[vector])\n",
    "    newVector = []\n",
    "    for v in hashtagHandleVector[vector]:\n",
    "        newVector.append(v/maxValue)\n",
    "    hashtagHandleVector[vector] = newVector\n",
    "winsound.Beep(450, 2000)"
   ]
  },
  {
   "cell_type": "markdown",
   "metadata": {},
   "source": [
    "Metatrepw thn lista me ta vectors se numpy array"
   ]
  },
  {
   "cell_type": "code",
   "execution_count": 17,
   "metadata": {
    "collapsed": true
   },
   "outputs": [],
   "source": [
    "X = np.array(hashtagHandleVector)"
   ]
  },
  {
   "cell_type": "code",
   "execution_count": 21,
   "metadata": {
    "collapsed": false
   },
   "outputs": [
    {
     "name": "stdout",
     "output_type": "stream",
     "text": [
      "[[ 0.25        0.          0.         ...,  0.          0.          0.        ]\n",
      " [ 0.01818182  0.          0.         ...,  0.          0.          0.        ]\n",
      " [ 0.16666667  0.          0.         ...,  0.          0.          0.        ]\n",
      " ..., \n",
      " [ 0.          0.          0.         ...,  0.          0.          0.        ]\n",
      " [ 0.          0.          0.         ...,  0.          0.          0.        ]\n",
      " [ 0.          0.          0.         ...,  0.          0.          0.        ]]\n"
     ]
    }
   ],
   "source": [
    "print(X)"
   ]
  },
  {
   "cell_type": "code",
   "execution_count": 20,
   "metadata": {
    "collapsed": false
   },
   "outputs": [
    {
     "name": "stdout",
     "output_type": "stream",
     "text": [
      "Iteration for k = 1\n",
      "Iteration for k = 2\n",
      "Iteration for k = 3\n",
      "Iteration for k = 4\n",
      "Iteration for k = 5\n",
      "Iteration for k = 6\n",
      "Iteration for k = 7\n",
      "Iteration for k = 8\n",
      "Iteration for k = 9\n",
      "Iteration for k = 10\n",
      "Iteration for k = 11\n",
      "Iteration for k = 12\n",
      "Iteration for k = 13\n",
      "Iteration for k = 14\n",
      "Iteration for k = 15\n",
      "Iteration for k = 16\n",
      "Iteration for k = 17\n",
      "Iteration for k = 18\n",
      "Iteration for k = 19\n",
      "Iteration for k = 20\n"
     ]
    }
   ],
   "source": [
    "y = []\n",
    "x = []\n",
    "for i in range(1, 21):\n",
    "    x.append(i)\n",
    "\n",
    "for k in range(1, 21):\n",
    "    print(\"Iteration for k = \" + str(k))\n",
    "    kmeans = sk_cluster.KMeans(init='k-means++', n_clusters=k, n_init=10)\n",
    "    kmeans.fit_predict(X)\n",
    "    centroids = kmeans.cluster_centers_\n",
    "    kmeans_labels = kmeans.labels_\n",
    "    error = kmeans.inertia_\n",
    "    y.append(error)"
   ]
  },
  {
   "cell_type": "markdown",
   "metadata": {
    "collapsed": true
   },
   "source": [
    "Grafima gia to SSE gia diafores times clusters"
   ]
  },
  {
   "cell_type": "code",
   "execution_count": 22,
   "metadata": {
    "collapsed": false
   },
   "outputs": [
    {
     "data": {
      "image/png": "[encoded data removed]",
      "text/plain": [
       "<matplotlib.figure.Figure at 0x199969d06d8>"
      ]
     },
     "metadata": {},
     "output_type": "display_data"
    }
   ],
   "source": [
    "plt.xlabel('clusters number')\n",
    "plt.ylabel('error')\n",
    "plt.plot(x,y)\n",
    "plt.show()"
   ]
  },
  {
   "cell_type": "markdown",
   "metadata": {},
   "source": [
    "Apo thn grafikh parastash tou error diakrinw oti otan o arithmos twn clusters megalwnei px gia 20 exw poly xamhlo error, omws sigoyra tha xanetai kai h sysxetish pou thelw na dw anamesa sta hashtasg. Ara, tha trexw ton k-means gia 7 clusters"
   ]
  },
  {
   "cell_type": "code",
   "execution_count": 23,
   "metadata": {
    "collapsed": false
   },
   "outputs": [
    {
     "name": "stdout",
     "output_type": "stream",
     "text": [
      "The total error of the clustering is:  6123.25005415\n",
      "\n",
      "Cluster labels\n",
      "[ 1  6 11 ...,  6  6  6]\n",
      "\n",
      " Cluster Centroids\n",
      "[[ -8.67361738e-19   2.16840434e-19  -1.73472348e-18 ...,  -4.33680869e-19\n",
      "    4.33680869e-19  -2.16840434e-19]\n",
      " [  1.64373167e-02   1.40946282e-18   2.57254579e-05 ...,   1.73472348e-18\n",
      "    7.23975806e-03   2.62690908e-03]\n",
      " [  0.00000000e+00   0.00000000e+00   0.00000000e+00 ...,   0.00000000e+00\n",
      "    0.00000000e+00   2.50000000e-01]\n",
      " ..., \n",
      " [  5.20417043e-18   2.58965199e-03   7.98425167e-02 ...,   2.16840434e-19\n",
      "    6.72246057e-04   6.58472344e-04]\n",
      " [  0.00000000e+00   0.00000000e+00   0.00000000e+00 ...,   0.00000000e+00\n",
      "    0.00000000e+00   0.00000000e+00]\n",
      " [  4.62962963e-03   3.56125356e-04   3.46944695e-18 ...,   2.08083803e-02\n",
      "    3.56125356e-04   4.33680869e-19]]\n"
     ]
    }
   ],
   "source": [
    "kmeans = sk_cluster.KMeans(init='k-means++', n_clusters=12, n_init=10)\n",
    "kmeans.fit_predict(X)\n",
    "centroids = kmeans.cluster_centers_\n",
    "kmeans_labels = kmeans.labels_\n",
    "error = kmeans.inertia_\n",
    "print (\"The total error of the clustering is: \", error)\n",
    "print ('\\nCluster labels')\n",
    "print(kmeans_labels)\n",
    "print ('\\n Cluster Centroids')\n",
    "print (centroids)"
   ]
  },
  {
   "cell_type": "markdown",
   "metadata": {},
   "source": [
    "Tha ftiaxnw tosa arxeia osa kai ta clusters kai mesa tha apothikeusw ta hashtasgs/handles pou anhkoun sto kathe cluster gia na dw thn sxesh tous"
   ]
  },
  {
   "cell_type": "code",
   "execution_count": 25,
   "metadata": {
    "collapsed": false
   },
   "outputs": [],
   "source": [
    "files = []\n",
    "#C:\\\\Users\\\\Chryssa\\\\Desktop\\\\\n",
    "for k in range(1,13):\n",
    "    files.append(open(\"DM\\\\cluster\" + str(k) + \".txt\", \"w\"))\n",
    "    \n",
    "for label in range(len(kmeans_labels)):\n",
    "    files[kmeans_labels[label]].write(hhInSeries[label] + \"\\n\")\n",
    "\n",
    "for f in files:\n",
    "    f.close()"
   ]
  },
  {
   "cell_type": "markdown",
   "metadata": {},
   "source": [
    " Agglomerative algorithmos"
   ]
  },
  {
   "cell_type": "code",
   "execution_count": null,
   "metadata": {
    "collapsed": true
   },
   "outputs": [],
   "source": [
    "agglo = sk_cluster.AgglomerativeClustering(linkage = 'complete', n_clusters = 12, affinity = \"cosine\")\n",
    "agglo_labels = agglo.fit_predict(X)"
   ]
  },
  {
   "cell_type": "markdown",
   "metadata": {},
   "source": [
    "DBSCAN algorithmos"
   ]
  },
  {
   "cell_type": "code",
   "execution_count": 29,
   "metadata": {
    "collapsed": false
   },
   "outputs": [],
   "source": [
    "dbscan = sk_cluster.DBSCAN(eps=0.3)\n",
    "dbscan_labels = dbscan.fit_predict(X)"
   ]
  },
  {
   "cell_type": "code",
   "execution_count": 30,
   "metadata": {
    "collapsed": false
   },
   "outputs": [
    {
     "name": "stdout",
     "output_type": "stream",
     "text": [
      "[-1 -1 -1 ..., -1 -1 -1]\n"
     ]
    }
   ],
   "source": [
    "print(dbscan_labels)"
   ]
  },
  {
   "cell_type": "markdown",
   "metadata": {},
   "source": [
    "Tha ftiaxw tous confusion matrixes gia ola ta zeygh algorithmwn"
   ]
  },
  {
   "cell_type": "markdown",
   "metadata": {},
   "source": [
    "k-means vs agglomerative"
   ]
  },
  {
   "cell_type": "code",
   "execution_count": 31,
   "metadata": {
    "collapsed": false
   },
   "outputs": [
    {
     "name": "stdout",
     "output_type": "stream",
     "text": [
      "[[  17    0    1    0    0    0    0    0    0    0    0    0]\n",
      " [ 112    0    0    0    1    0    0    0    0    0    0    0]\n",
      " [   0    0    1    0    0    0    0    0    0    0    0    0]\n",
      " [  87    0    0    0    0    0    0    0    0    0    0    0]\n",
      " [  26    0    0    1    0    0    0    0    0    0    0    0]\n",
      " [ 215    3    0    0    0    0    0    0    0    0    0    0]\n",
      " [1053    5    5    3    4    4    2    0    0    0    0    0]\n",
      " [  34    0    0    0    0    0    0    0    0    0    0    0]\n",
      " [  20    0    0    0    0    0    0    0    0    0    0    0]\n",
      " [ 134    0    0    0    0    0    0    0    0    0    0    0]\n",
      " [   1    0    0    0    0    0    0    0    0    0    0    0]\n",
      " [  36    0    0    0    0    0    0    0    0    0    0    0]]\n"
     ]
    }
   ],
   "source": [
    "kMeansVSagglomerativeCM = metrics.confusion_matrix(kmeans_labels,agglo_labels)\n",
    "print(kMeansVSagglomerativeCM)"
   ]
  },
  {
   "cell_type": "code",
   "execution_count": 32,
   "metadata": {
    "collapsed": false
   },
   "outputs": [
    {
     "data": {
      "image/png": "[encoded data removed]",
      "text/plain": [
       "<matplotlib.figure.Figure at 0x199a46024a8>"
      ]
     },
     "metadata": {},
     "output_type": "display_data"
    },
    {
     "data": {
      "image/png": "[encoded data removed]",
      "text/plain": [
       "<matplotlib.figure.Figure at 0x199a4d7f3c8>"
      ]
     },
     "metadata": {},
     "output_type": "display_data"
    }
   ],
   "source": [
    "plt.ylabel(\"agglo\")\n",
    "plt.xlabel(\"k-means\")\n",
    "plt.pcolor(kMeansVSagglomerativeCM,cmap=plt.cm.Reds)\n",
    "plt.show()\n",
    "plt.ylabel(\"agglo\")\n",
    "plt.xlabel(\"k-means\")\n",
    "plt.pcolor(kMeansVSagglomerativeCM,cmap=plt.cm.coolwarm)\n",
    "plt.show()\n",
    "#cmap=plt.cm.coolwarm"
   ]
  },
  {
   "cell_type": "markdown",
   "metadata": {},
   "source": [
    "k-means vs dbscan"
   ]
  },
  {
   "cell_type": "code",
   "execution_count": 33,
   "metadata": {
    "collapsed": false,
    "scrolled": true
   },
   "outputs": [
    {
     "name": "stdout",
     "output_type": "stream",
     "text": [
      "[[   0    0    0    0    0    0    0    0    0    0    0    0    0]\n",
      " [  18    0    0    0    0    0    0    0    0    0    0    0    0]\n",
      " [ 113    0    0    0    0    0    0    0    0    0    0    0    0]\n",
      " [   1    0    0    0    0    0    0    0    0    0    0    0    0]\n",
      " [  87    0    0    0    0    0    0    0    0    0    0    0    0]\n",
      " [  27    0    0    0    0    0    0    0    0    0    0    0    0]\n",
      " [ 218    0    0    0    0    0    0    0    0    0    0    0    0]\n",
      " [1062   14    0    0    0    0    0    0    0    0    0    0    0]\n",
      " [  34    0    0    0    0    0    0    0    0    0    0    0    0]\n",
      " [  20    0    0    0    0    0    0    0    0    0    0    0    0]\n",
      " [ 134    0    0    0    0    0    0    0    0    0    0    0    0]\n",
      " [   1    0    0    0    0    0    0    0    0    0    0    0    0]\n",
      " [  36    0    0    0    0    0    0    0    0    0    0    0    0]]\n"
     ]
    }
   ],
   "source": [
    "kMeansVSdbscanCM = metrics.confusion_matrix(kmeans_labels,dbscan_labels)\n",
    "print(kMeansVSdbscanCM)"
   ]
  },
  {
   "cell_type": "code",
   "execution_count": 34,
   "metadata": {
    "collapsed": false
   },
   "outputs": [
    {
     "data": {
      "image/png": "[encoded data removed]",
      "text/plain": [
       "<matplotlib.figure.Figure at 0x199a053e668>"
      ]
     },
     "metadata": {},
     "output_type": "display_data"
    },
    {
     "data": {
      "image/png": "[encoded data removed]",
      "text/plain": [
       "<matplotlib.figure.Figure at 0x199a4838b00>"
      ]
     },
     "metadata": {},
     "output_type": "display_data"
    }
   ],
   "source": [
    "plt.ylabel(\"dbscan\")\n",
    "plt.xlabel(\"k-means\")\n",
    "plt.pcolor(kMeansVSdbscanCM,cmap=plt.cm.Reds)\n",
    "plt.show()\n",
    "plt.ylabel(\"dbscan\")\n",
    "plt.xlabel(\"k-means\")\n",
    "plt.pcolor(kMeansVSdbscanCM,cmap=plt.cm.coolwarm)\n",
    "plt.show()"
   ]
  },
  {
   "cell_type": "markdown",
   "metadata": {},
   "source": [
    "Agglomerative vs DBSCAN"
   ]
  },
  {
   "cell_type": "code",
   "execution_count": 37,
   "metadata": {
    "collapsed": false
   },
   "outputs": [
    {
     "name": "stdout",
     "output_type": "stream",
     "text": [
      "[[   0    0    0    0    0    0    0    0]\n",
      " [1721   14    0    0    0    0    0    0]\n",
      " [   8    0    0    0    0    0    0    0]\n",
      " [   7    0    0    0    0    0    0    0]\n",
      " [   4    0    0    0    0    0    0    0]\n",
      " [   5    0    0    0    0    0    0    0]\n",
      " [   4    0    0    0    0    0    0    0]\n",
      " [   2    0    0    0    0    0    0    0]]\n"
     ]
    }
   ],
   "source": [
    "aggloVSdbscanCM = metrics.confusion_matrix(agglo_labels,dbscan_labels)\n",
    "print(aggloVSdbscanCM)"
   ]
  },
  {
   "cell_type": "code",
   "execution_count": 38,
   "metadata": {
    "collapsed": false
   },
   "outputs": [
    {
     "data": {
      "image/png": "[encoded data removed]",
      "text/plain": [
       "<matplotlib.figure.Figure at 0x19996977fd0>"
      ]
     },
     "metadata": {},
     "output_type": "display_data"
    },
    {
     "data": {
      "image/png": "[encoded data removed]",
      "text/plain": [
       "<matplotlib.figure.Figure at 0x1999f4bce48>"
      ]
     },
     "metadata": {},
     "output_type": "display_data"
    }
   ],
   "source": [
    "plt.xlabel(\"agglo\")\n",
    "plt.ylabel(\"dbscan\")\n",
    "plt.pcolor(aggloVSdbscanCM,cmap=plt.cm.Reds)\n",
    "plt.show()\n",
    "plt.xlabel(\"agglo\")\n",
    "plt.ylabel(\"dbscan\")\n",
    "plt.pcolor(aggloVSdbscanCM,cmap=plt.cm.coolwarm)\n",
    "plt.show()"
   ]
  },
  {
   "cell_type": "markdown",
   "metadata": {
    "collapsed": true
   },
   "source": [
    "2o provlima"
   ]
  },
  {
   "cell_type": "markdown",
   "metadata": {},
   "source": [
    "Prepei na anaparasthsw twra ta dianysmata twn xrhstwn, ara einai o anastrofos tou dianysmatos X"
   ]
  },
  {
   "cell_type": "code",
   "execution_count": 39,
   "metadata": {
    "collapsed": false
   },
   "outputs": [
    {
     "name": "stdout",
     "output_type": "stream",
     "text": [
      "[[ 0.25        0.01818182  0.16666667 ...,  0.          0.          0.        ]\n",
      " [ 0.          0.          0.         ...,  0.          0.          0.        ]\n",
      " [ 0.          0.          0.         ...,  0.          0.          0.        ]\n",
      " ..., \n",
      " [ 0.          0.          0.         ...,  0.          0.          0.        ]\n",
      " [ 0.          0.          0.         ...,  0.          0.          0.        ]\n",
      " [ 0.          0.          0.         ...,  0.          0.          0.        ]]\n"
     ]
    }
   ],
   "source": [
    "userVector = X.T\n",
    "print(userVector)\n",
    "winsound.Beep(450, 2000)"
   ]
  },
  {
   "cell_type": "markdown",
   "metadata": {},
   "source": [
    "Sto arxeio \"clinton_trump_user_classes.txt\" yparxoun ta id twn xrhstwn, egw exw krathsei ta username tous opote tha prepei na kanw mia epexergasia prwta wste na vrw auta ta ids se poia usernames antistoixoun"
   ]
  },
  {
   "cell_type": "code",
   "execution_count": 40,
   "metadata": {
    "collapsed": false
   },
   "outputs": [
    {
     "name": "stdout",
     "output_type": "stream",
     "text": [
      "True\n"
     ]
    }
   ],
   "source": [
    "file = open(\"clinton_trump_tweets.txt\", \"r\")\n",
    "nameSet = set(namesInSeries)\n",
    "ids = {}\n",
    "\n",
    "for line in file:\n",
    "    line = line.replace('\\n', \"\")\n",
    "    splittedTweet = line.split(\"\\t\")\n",
    "    if(splittedTweet[1] in nameSet):\n",
    "        if(splittedTweet[1] in ids):\n",
    "            continue\n",
    "        ids[splittedTweet[1]] = str(splittedTweet[2])\n",
    "\n",
    "file.close()\n",
    "print(len(ids) == len(namesInSeries))\n",
    "#for i in ids:\n",
    "#    print(i + \" : \" + str(ids[i]))\n",
    "winsound.Beep(450, 2000)"
   ]
  },
  {
   "cell_type": "markdown",
   "metadata": {},
   "source": [
    "Tha diavasw to arxeio \"clinton_trump_user_classes.txt\" kai tha krathsw se duo listes tous followers tou trum kai tous followers ths clintin"
   ]
  },
  {
   "cell_type": "code",
   "execution_count": 41,
   "metadata": {
    "collapsed": true
   },
   "outputs": [],
   "source": [
    "key = list(ids.keys())\n",
    "value = list(ids.values())"
   ]
  },
  {
   "cell_type": "code",
   "execution_count": 42,
   "metadata": {
    "collapsed": false
   },
   "outputs": [
    {
     "name": "stdout",
     "output_type": "stream",
     "text": [
      "Trump followers: 0\n",
      "Clinton followwers: 3108\n"
     ]
    }
   ],
   "source": [
    "trumpFollowers = []\n",
    "clintonFollowers = []\n",
    "\n",
    "idsSet = set(list(ids.values()))\n",
    "\n",
    "file = open(\"clinton_trump_user_classes.txt\", \"r\")\n",
    "for line in file:\n",
    "    line = line.replace(\"\\n\", \"\")\n",
    "    line = line.split(\"\\t\")\n",
    "    if(line[0] in idsSet):\n",
    "        idIndex = value.index(line[0])\n",
    "        if(line[1] == 0):\n",
    "            trumpFollowers.append(key[idIndex])\n",
    "        else:\n",
    "            clintonFollowers.append(key[idIndex])\n",
    "    #break\n",
    "\n",
    "file.close()\n",
    "print(\"Trump followers: \" + str(len(trumpFollowers)))\n",
    "print(\"Clinton followwers: \" + str(len(clintonFollowers)))\n",
    "winsound.Beep(450, 2000)"
   ]
  },
  {
   "cell_type": "markdown",
   "metadata": {},
   "source": [
    "Pinakas me ta true_labels"
   ]
  },
  {
   "cell_type": "code",
   "execution_count": 43,
   "metadata": {
    "collapsed": true
   },
   "outputs": [],
   "source": [
    "true_labels = [0] * 3108"
   ]
  },
  {
   "cell_type": "markdown",
   "metadata": {},
   "source": [
    "k-means algorithmos"
   ]
  },
  {
   "cell_type": "code",
   "execution_count": 44,
   "metadata": {
    "collapsed": false
   },
   "outputs": [
    {
     "name": "stdout",
     "output_type": "stream",
     "text": [
      "The total error of the clustering is:  6358.29231655\n",
      "\n",
      "Cluster labels\n",
      "[1 1 1 ..., 1 1 1]\n",
      "\n",
      " Cluster Centroids\n",
      "[[ 0.00100806  0.00703812  0.03293011 ...,  0.00705645  0.00117066\n",
      "   0.00201613]\n",
      " [ 0.00332168  0.00398601  0.00681818 ...,  0.00091783  0.00074442\n",
      "   0.00262238]]\n"
     ]
    }
   ],
   "source": [
    "kmeans = sk_cluster.KMeans(init='k-means++', n_clusters=2, n_init=10)\n",
    "kmeans.fit_predict(userVector)\n",
    "centroids = kmeans.cluster_centers_\n",
    "kmeans_labels = kmeans.labels_\n",
    "error = kmeans.inertia_\n",
    "print (\"The total error of the clustering is: \", error)\n",
    "print ('\\nCluster labels')\n",
    "print(kmeans_labels)\n",
    "print ('\\n Cluster Centroids')\n",
    "print (centroids)"
   ]
  },
  {
   "cell_type": "markdown",
   "metadata": {},
   "source": [
    "confusion matrix k-means - true_labels"
   ]
  },
  {
   "cell_type": "code",
   "execution_count": 45,
   "metadata": {
    "collapsed": false
   },
   "outputs": [
    {
     "name": "stdout",
     "output_type": "stream",
     "text": [
      "[[ 248 2860]\n",
      " [   0    0]]\n"
     ]
    },
    {
     "data": {
      "image/png": "[encoded data removed]",
      "text/plain": [
       "<matplotlib.figure.Figure at 0x19999b68160>"
      ]
     },
     "metadata": {},
     "output_type": "display_data"
    },
    {
     "data": {
      "image/png": "[encoded data removed]",
      "text/plain": [
       "<matplotlib.figure.Figure at 0x199a495de48>"
      ]
     },
     "metadata": {},
     "output_type": "display_data"
    }
   ],
   "source": [
    "trueKMeans = metrics.confusion_matrix(true_labels,kmeans_labels)\n",
    "print(trueKMeans)\n",
    "plt.xlabel(\"true_labels\")\n",
    "plt.ylabel(\"k-means\")\n",
    "plt.pcolor(trueKMeans,cmap=plt.cm.Reds)\n",
    "plt.show()\n",
    "plt.xlabel(\"true_labels\")\n",
    "plt.ylabel(\"k-means\")\n",
    "plt.pcolor(trueKMeans,cmap=plt.cm.coolwarm)\n",
    "plt.show()"
   ]
  },
  {
   "cell_type": "markdown",
   "metadata": {},
   "source": [
    "Ypologismos kapoiwn allwn parametrwn"
   ]
  },
  {
   "cell_type": "code",
   "execution_count": 46,
   "metadata": {
    "collapsed": true
   },
   "outputs": [],
   "source": [
    "from sklearn.metrics import f1_score"
   ]
  },
  {
   "cell_type": "code",
   "execution_count": 47,
   "metadata": {
    "collapsed": false
   },
   "outputs": [
    {
     "name": "stdout",
     "output_type": "stream",
     "text": [
      "PRECISION: [ 1.  0.]\n",
      "RECALL: [ 0.07979408  0.        ]\n",
      "F_MEASURE: [ 0.14779499  0.        ]\n"
     ]
    },
    {
     "name": "stderr",
     "output_type": "stream",
     "text": [
      "C:\\ProgramData\\Anaconda3\\lib\\site-packages\\sklearn\\metrics\\classification.py:1115: UndefinedMetricWarning: Recall is ill-defined and being set to 0.0 in labels with no true samples.\n",
      "  'recall', 'true', average, warn_for)\n",
      "C:\\ProgramData\\Anaconda3\\lib\\site-packages\\sklearn\\metrics\\classification.py:1115: UndefinedMetricWarning: F-score is ill-defined and being set to 0.0 in labels with no true samples.\n",
      "  'recall', 'true', average, warn_for)\n"
     ]
    }
   ],
   "source": [
    "p = metrics.precision_score(true_labels,kmeans_labels, average=None)\n",
    "print(\"PRECISION: \" + str(p))\n",
    "r = metrics.recall_score(true_labels,kmeans_labels, average = None)\n",
    "print(\"RECALL: \" + str(r))\n",
    "f1 = f1_score(true_labels,kmeans_labels, average = None)\n",
    "print(\"F_MEASURE: \" + str(f1))"
   ]
  },
  {
   "cell_type": "markdown",
   "metadata": {},
   "source": [
    "agglomerative -> complete-link"
   ]
  },
  {
   "cell_type": "code",
   "execution_count": 48,
   "metadata": {
    "collapsed": false
   },
   "outputs": [
    {
     "name": "stdout",
     "output_type": "stream",
     "text": [
      "[0 0 0 ..., 0 0 0]\n"
     ]
    }
   ],
   "source": [
    "agglo = sk_cluster.AgglomerativeClustering(linkage = 'complete', n_clusters = 2, affinity='cosine')\n",
    "agglo_labels = agglo.fit_predict(userVector)\n",
    "print(agglo_labels)"
   ]
  },
  {
   "cell_type": "code",
   "execution_count": 49,
   "metadata": {
    "collapsed": false
   },
   "outputs": [
    {
     "name": "stdout",
     "output_type": "stream",
     "text": [
      "[[3089   19]\n",
      " [   0    0]]\n"
     ]
    },
    {
     "data": {
      "image/png": "[encoded data removed]",
      "text/plain": [
       "<matplotlib.figure.Figure at 0x199a2b22b70>"
      ]
     },
     "metadata": {},
     "output_type": "display_data"
    },
    {
     "data": {
      "image/png": "[encoded data removed]",
      "text/plain": [
       "<matplotlib.figure.Figure at 0x199a0177198>"
      ]
     },
     "metadata": {},
     "output_type": "display_data"
    }
   ],
   "source": [
    "trueAggloComplete = metrics.confusion_matrix(true_labels,agglo_labels)\n",
    "print(trueAggloComplete)\n",
    "plt.xlabel(\"true_labels\")\n",
    "plt.ylabel(\"complete-link\")\n",
    "plt.pcolor(trueAggloComplete,cmap=plt.cm.Reds)\n",
    "plt.show()\n",
    "plt.xlabel(\"true_labels\")\n",
    "plt.ylabel(\"complete-link\")\n",
    "plt.pcolor(trueAggloComplete,cmap=plt.cm.coolwarm)\n",
    "plt.show()"
   ]
  },
  {
   "cell_type": "code",
   "execution_count": 50,
   "metadata": {
    "collapsed": false
   },
   "outputs": [
    {
     "name": "stdout",
     "output_type": "stream",
     "text": [
      "PRECISION: [ 1.  0.]\n",
      "RECALL: [ 0.99388674  0.        ]\n",
      "F_MEASURE: [ 0.996934  0.      ]\n"
     ]
    },
    {
     "name": "stderr",
     "output_type": "stream",
     "text": [
      "C:\\ProgramData\\Anaconda3\\lib\\site-packages\\sklearn\\metrics\\classification.py:1115: UndefinedMetricWarning: Recall is ill-defined and being set to 0.0 in labels with no true samples.\n",
      "  'recall', 'true', average, warn_for)\n",
      "C:\\ProgramData\\Anaconda3\\lib\\site-packages\\sklearn\\metrics\\classification.py:1115: UndefinedMetricWarning: F-score is ill-defined and being set to 0.0 in labels with no true samples.\n",
      "  'recall', 'true', average, warn_for)\n"
     ]
    }
   ],
   "source": [
    "p = metrics.precision_score(true_labels,agglo_labels, average=None)\n",
    "print(\"PRECISION: \" + str(p))\n",
    "r = metrics.recall_score(true_labels,agglo_labels, average = None)\n",
    "print(\"RECALL: \" + str(r))\n",
    "f1 = f1_score(true_labels,agglo_labels, average = None)\n",
    "print(\"F_MEASURE: \" + str(f1))"
   ]
  },
  {
   "cell_type": "markdown",
   "metadata": {},
   "source": [
    "agglomerative -> average"
   ]
  },
  {
   "cell_type": "code",
   "execution_count": 51,
   "metadata": {
    "collapsed": false
   },
   "outputs": [
    {
     "name": "stdout",
     "output_type": "stream",
     "text": [
      "[1 0 1 ..., 0 1 1]\n",
      "[[1190 1918]\n",
      " [   0    0]]\n"
     ]
    },
    {
     "data": {
      "image/png": "[encoded data removed]",
      "text/plain": [
       "<matplotlib.figure.Figure at 0x1999b019400>"
      ]
     },
     "metadata": {},
     "output_type": "display_data"
    },
    {
     "data": {
      "image/png": "[encoded data removed]",
      "text/plain": [
       "<matplotlib.figure.Figure at 0x19996110a20>"
      ]
     },
     "metadata": {},
     "output_type": "display_data"
    },
    {
     "name": "stdout",
     "output_type": "stream",
     "text": [
      "PRECISION: [ 1.  0.]\n",
      "RECALL: [ 0.38288288  0.        ]\n",
      "F_MEASURE: [ 0.55374593  0.        ]\n"
     ]
    },
    {
     "name": "stderr",
     "output_type": "stream",
     "text": [
      "C:\\ProgramData\\Anaconda3\\lib\\site-packages\\sklearn\\metrics\\classification.py:1115: UndefinedMetricWarning: Recall is ill-defined and being set to 0.0 in labels with no true samples.\n",
      "  'recall', 'true', average, warn_for)\n",
      "C:\\ProgramData\\Anaconda3\\lib\\site-packages\\sklearn\\metrics\\classification.py:1115: UndefinedMetricWarning: F-score is ill-defined and being set to 0.0 in labels with no true samples.\n",
      "  'recall', 'true', average, warn_for)\n"
     ]
    }
   ],
   "source": [
    "agglo = sk_cluster.AgglomerativeClustering(linkage = 'average', n_clusters = 2, affinity='cosine')\n",
    "agglo_labels = agglo.fit_predict(userVector)\n",
    "print(agglo_labels)\n",
    "trueAggloComplete = metrics.confusion_matrix(true_labels,agglo_labels)\n",
    "print(trueAggloComplete)\n",
    "plt.xlabel(\"true_labels\")\n",
    "plt.ylabel(\"average\")\n",
    "plt.pcolor(trueAggloComplete,cmap=plt.cm.Reds)\n",
    "plt.show()\n",
    "plt.xlabel(\"true_labels\")\n",
    "plt.ylabel(\"average\")\n",
    "plt.pcolor(trueAggloComplete,cmap=plt.cm.coolwarm)\n",
    "plt.show()\n",
    "p = metrics.precision_score(true_labels,agglo_labels, average=None)\n",
    "print(\"PRECISION: \" + str(p))\n",
    "r = metrics.recall_score(true_labels,agglo_labels, average = None)\n",
    "print(\"RECALL: \" + str(r))\n",
    "f1 = f1_score(true_labels,agglo_labels, average = None)\n",
    "print(\"F_MEASURE: \" + str(f1))"
   ]
  },
  {
   "cell_type": "markdown",
   "metadata": {},
   "source": [
    "Agglomerative -> ward"
   ]
  },
  {
   "cell_type": "code",
   "execution_count": 53,
   "metadata": {
    "collapsed": false
   },
   "outputs": [
    {
     "name": "stdout",
     "output_type": "stream",
     "text": [
      "[0 0 0 ..., 0 0 0]\n",
      "[[3106    2]\n",
      " [   0    0]]\n"
     ]
    },
    {
     "data": {
      "image/png": "[encoded data removed]",
      "text/plain": [
       "<matplotlib.figure.Figure at 0x19999b68b70>"
      ]
     },
     "metadata": {},
     "output_type": "display_data"
    },
    {
     "data": {
      "image/png": "[encoded data removed]",
      "text/plain": [
       "<matplotlib.figure.Figure at 0x1999662bef0>"
      ]
     },
     "metadata": {},
     "output_type": "display_data"
    },
    {
     "name": "stdout",
     "output_type": "stream",
     "text": [
      "PRECISION: [ 1.  0.]\n",
      "RECALL: [ 0.9993565  0.       ]\n",
      "F_MEASURE: [ 0.99967815  0.        ]\n"
     ]
    },
    {
     "name": "stderr",
     "output_type": "stream",
     "text": [
      "C:\\ProgramData\\Anaconda3\\lib\\site-packages\\sklearn\\metrics\\classification.py:1115: UndefinedMetricWarning: Recall is ill-defined and being set to 0.0 in labels with no true samples.\n",
      "  'recall', 'true', average, warn_for)\n",
      "C:\\ProgramData\\Anaconda3\\lib\\site-packages\\sklearn\\metrics\\classification.py:1115: UndefinedMetricWarning: F-score is ill-defined and being set to 0.0 in labels with no true samples.\n",
      "  'recall', 'true', average, warn_for)\n"
     ]
    }
   ],
   "source": [
    "agglo = sk_cluster.AgglomerativeClustering(linkage = 'ward', n_clusters = 2)\n",
    "agglo_labels = agglo.fit_predict(userVector)\n",
    "print(agglo_labels)\n",
    "trueAggloComplete = metrics.confusion_matrix(true_labels,agglo_labels)\n",
    "print(trueAggloComplete)\n",
    "plt.xlabel(\"true_labels\")\n",
    "plt.ylabel(\"ward\")\n",
    "plt.pcolor(trueAggloComplete,cmap=plt.cm.Reds)\n",
    "plt.show()\n",
    "plt.xlabel(\"true_labels\")\n",
    "plt.ylabel(\"ward\")\n",
    "plt.pcolor(trueAggloComplete,cmap=plt.cm.coolwarm)\n",
    "plt.show()\n",
    "p = metrics.precision_score(true_labels,agglo_labels, average=None)\n",
    "print(\"PRECISION: \" + str(p))\n",
    "r = metrics.recall_score(true_labels,agglo_labels, average = None)\n",
    "print(\"RECALL: \" + str(r))\n",
    "f1 = f1_score(true_labels,agglo_labels, average = None)\n",
    "print(\"F_MEASURE: \" + str(f1))"
   ]
  },
  {
   "cell_type": "markdown",
   "metadata": {},
   "source": [
    "Agglomerative -> single-link"
   ]
  },
  {
   "cell_type": "code",
   "execution_count": 54,
   "metadata": {
    "collapsed": false
   },
   "outputs": [],
   "source": [
    "Z = sp.cluster.hierarchy.linkage(userVector, method='single', metric='cosine')"
   ]
  },
  {
   "cell_type": "code",
   "execution_count": 55,
   "metadata": {
    "collapsed": false
   },
   "outputs": [
    {
     "name": "stdout",
     "output_type": "stream",
     "text": [
      "(3107, 4)\n",
      "[[  3.96000000e+02   5.15000000e+02   3.35899173e-02   2.00000000e+00]\n",
      " [  5.30000000e+01   3.10800000e+03   4.95763033e-02   3.00000000e+00]\n",
      " [  3.20000000e+01   2.67000000e+02   9.39347561e-02   2.00000000e+00]\n",
      " ..., \n",
      " [  1.69600000e+03   6.21100000e+03   8.33500633e-01   3.10600000e+03]\n",
      " [  1.39400000e+03   6.21200000e+03   8.38277144e-01   3.10700000e+03]\n",
      " [  2.09900000e+03   6.21300000e+03   8.43741803e-01   3.10800000e+03]]\n"
     ]
    }
   ],
   "source": [
    "print(Z.shape)\n",
    "print(Z)"
   ]
  },
  {
   "cell_type": "code",
   "execution_count": 58,
   "metadata": {
    "collapsed": false
   },
   "outputs": [
    {
     "name": "stdout",
     "output_type": "stream",
     "text": [
      "['DonKeehotey', 'd_twit', 'AttyLeBlanc', 'a_degeatano', 'WholePlateWay', 'laura19191', 'scottyhasty', 'csilberman70', 'YellyYellerson', 'aliceinthewater']\n"
     ]
    }
   ],
   "source": [
    "trumpList = []\n",
    "for i in range(len(kmeans_labels)):\n",
    "    if(kmeans_labels[i] == 0):\n",
    "        trumpList.append(namesInSeries[i])\n",
    "print(trumpList[0:10])"
   ]
  },
  {
   "cell_type": "code",
   "execution_count": 70,
   "metadata": {
    "collapsed": false
   },
   "outputs": [
    {
     "name": "stdout",
     "output_type": "stream",
     "text": [
      "[('@realDonaldTrump', 3667), ('@HillaryClinton', 2865), ('@CNN', 1411), ('@FoxNews', 1219), ('@MSNBC', 1016), ('@YouTube', 1010), ('@JoyAnnReid', 928), ('@FBI', 839), ('@kurteichenwald', 809), ('@washingtonpost', 808), ('@jasoninthehouse', 798), ('@KellyannePolls', 743), ('@CNNPolitics', 705), ('@ABC', 699), ('@nytimes', 638), ('@wikileaks', 627), ('@megynkelly', 625), ('@thehill', 546), ('@GOP', 475), ('@POTUS', 475), ('@jaketapper', 462), ('#Trump', 452), ('@NBCNews', 425), ('@newtgingrich', 409), ('@CBSNews', 409), ('@politico', 406), ('@seanhannity', 391), ('@SpeakerRyan', 365), ('@SopanDeb', 355), ('#ImWithHer', 324)]\n"
     ]
    }
   ],
   "source": [
    "import operator\n",
    "\n",
    "top30 = {}\n",
    "\n",
    "for i in range(len(kmeans_labels)):\n",
    "    if(kmeans_labels[i] == 0):\n",
    "        hhList = userDictHHDict[namesInSeries[i]]\n",
    "        hhNames = list(hhList.keys())\n",
    "        values = list(hhList.values())\n",
    "        for hh in range(len(hhNames)):\n",
    "            if(hhNames[hh] in top30):\n",
    "                top30[hhNames[hh]] = top30[hhNames[hh]] + values[hh]\n",
    "            else:\n",
    "                top30[hhNames[hh]] = values[hh]\n",
    "sorted_x = sorted(top30.items(), key=operator.itemgetter(1))\n",
    "sorted_x = sorted_x[::-1]\n",
    "top30 = sorted_x[0:30]\n",
    "print(top30)\n",
    "winsound.Beep(450, 2000)"
   ]
  },
  {
   "cell_type": "code",
   "execution_count": 71,
   "metadata": {
    "collapsed": false
   },
   "outputs": [
    {
     "name": "stdout",
     "output_type": "stream",
     "text": [
      "['robert2266', 'CaptainNormal', 'UnBitterEnd2013', 'Jodyjtaylor', 'arjanomics', 'NHKeith', 'findit89', '2miche', 'jcjet5', 'brokenwing2005']\n"
     ]
    }
   ],
   "source": [
    "clintonList = []\n",
    "for i in range(len(kmeans_labels)):\n",
    "    if(kmeans_labels[i] == 1):\n",
    "        clintonList.append(namesInSeries[i])\n",
    "print(clintonList[0:10])"
   ]
  },
  {
   "cell_type": "code",
   "execution_count": 72,
   "metadata": {
    "collapsed": false
   },
   "outputs": [
    {
     "name": "stdout",
     "output_type": "stream",
     "text": [
      "[('@realDonaldTrump', 14466), ('@HillaryClinton', 11083), ('@FoxNews', 6325), ('@YouTube', 4336), ('@megynkelly', 4222), ('#Trump', 4162), ('@CNN', 3720), ('#MAGA', 3607), ('#Hillary', 2869), ('@seanhannity', 2556), ('@newtgingrich', 2314), ('@wikileaks', 2168), ('@FBI', 2099), ('@KellyannePolls', 2058), ('#CrookedHillary', 1765), ('#TRUMP', 1641), ('@MSNBC', 1595), ('@POTUS', 1590), ('#DrainTheSwamp', 1548), ('#Clinton', 1539), ('@mitchellvii', 1460), ('@WDFx2EU7', 1437), ('@washingtonpost', 1386), ('@nytimes', 1360), ('#HillaryClinton', 1356), ('#ImWithHer', 1347), ('@ABC', 1294), ('@jasoninthehouse', 1274), ('@BreitbartNews', 1209), ('#TrumpPence16', 1167)]\n"
     ]
    }
   ],
   "source": [
    "import operator\n",
    "\n",
    "top30 = {}\n",
    "\n",
    "for i in range(len(kmeans_labels)):\n",
    "    if(kmeans_labels[i] == 1):\n",
    "        hhList = userDictHHDict[namesInSeries[i]]\n",
    "        hhNames = list(hhList.keys())\n",
    "        values = list(hhList.values())\n",
    "        for hh in range(len(hhNames)):\n",
    "            if(hhNames[hh] in top30):\n",
    "                top30[hhNames[hh]] = top30[hhNames[hh]] + values[hh]\n",
    "            else:\n",
    "                top30[hhNames[hh]] = values[hh]\n",
    "sorted_x = sorted(top30.items(), key=operator.itemgetter(1))\n",
    "sorted_x = sorted_x[::-1]\n",
    "top30 = sorted_x[0:30]\n",
    "print(top30)\n",
    "winsound.Beep(450, 2000)"
   ]
  },
  {
   "cell_type": "code",
   "execution_count": null,
   "metadata": {
    "collapsed": true
   },
   "outputs": [],
   "source": []
  }
 ],
 "metadata": {
  "kernelspec": {
   "display_name": "Python 3",
   "language": "python",
   "name": "python3"
  },
  "language_info": {
   "codemirror_mode": {
    "name": "ipython",
    "version": 3
   },
   "file_extension": ".py",
   "mimetype": "text/x-python",
   "name": "python",
   "nbconvert_exporter": "python",
   "pygments_lexer": "ipython3",
   "version": "3.6.0"
  }
 },
 "nbformat": 4,
 "nbformat_minor": 2
}
