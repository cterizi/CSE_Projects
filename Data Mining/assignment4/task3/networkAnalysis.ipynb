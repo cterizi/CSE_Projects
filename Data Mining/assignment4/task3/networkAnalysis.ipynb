{
 "cells": [
  {
   "cell_type": "code",
   "execution_count": 2,
   "metadata": {
    "collapsed": false
   },
   "outputs": [
    {
     "name": "stdout",
     "output_type": "stream",
     "text": [
      "100000\n",
      "200000\n",
      "400000\n",
      "800000\n",
      "1000000\n",
      "3000000\n",
      "5000000\n"
     ]
    }
   ],
   "source": [
    "import winsound \n",
    "\n",
    "retweetUsers = set([])\n",
    "allUsers = set([])\n",
    "edgesList = set([])\n",
    "\n",
    "file = open(\"clinton_trump_tweets.txt\", \"r\")\n",
    "c = 0\n",
    "for line in file:\n",
    "    c = c + 1\n",
    "    if(c == 100000 or c == 200000 or c == 400000 or c == 800000 or c == 1000000 or c == 3000000 or c == 5000000):\n",
    "        print(c)\n",
    "    line = line.replace('\\n', \"\")\n",
    "    splittedTweet = line.split(\"\\t\")\n",
    "    for items in range(len(splittedTweet)):\n",
    "        if(splittedTweet[items].isdigit()):\n",
    "            username = splittedTweet[items - 1]\n",
    "            allUsers.add(username)\n",
    "            break\n",
    "    if(\"RT\" in splittedTweet[-1]):\n",
    "        textSplit = splittedTweet[-1].split(\" \")\n",
    "        if(len(textSplit) < 2):\n",
    "            continue\n",
    "        retweetUser = textSplit[1].replace(\":\", \"\")\n",
    "        retweetUsers.add(retweetUser)\n",
    "        edge = username + \"-\" + retweetUser\n",
    "        edgesList.add(edge)\n",
    "\n",
    "file.close()\n",
    "winsound.Beep(450, 2000)"
   ]
  },
  {
   "cell_type": "code",
   "execution_count": 3,
   "metadata": {
    "collapsed": false
   },
   "outputs": [
    {
     "name": "stdout",
     "output_type": "stream",
     "text": [
      "Total users: 200938\n",
      "Total retweet users: 435482\n",
      "Total edges: 1898377\n"
     ]
    }
   ],
   "source": [
    "print(\"Total users: \" + str(len(allUsers)))\n",
    "print(\"Total retweet users: \" + str(len(retweetUsers)))\n",
    "print(\"Total edges: \" + str(len(edgesList)))"
   ]
  },
  {
   "cell_type": "code",
   "execution_count": 4,
   "metadata": {
    "collapsed": false
   },
   "outputs": [
    {
     "name": "stdout",
     "output_type": "stream",
     "text": [
      "Names of users\n",
      "['curious2k', 'camsimon_', 'SterckB', 'Besstiebabeyy', 'CMullins_']\n",
      "------------------------------------------------\n",
      "Names of users that someone have retweet something of them\n",
      "['NalandaTech', 'BDOH', 'bassmaster7k', 'magic1073KC', 'folks']\n",
      "------------------------------------------------\n",
      "some of edges\n",
      "['LEFTH00K-DavidGoldbergNY', 'merenlan-ZaibatsuPlanet', 'jcmarbury-edatpost', 'Great_Scott79-can2009', 'harleyb11-ByMaxxAlexis']\n",
      "------------------------------------------------\n"
     ]
    }
   ],
   "source": [
    "allUsers = list(allUsers)\n",
    "print(\"Names of users\")\n",
    "print(allUsers[0:5])\n",
    "print(\"------------------------------------------------\")\n",
    "retweetUsers = list(retweetUsers)\n",
    "retweetUsers = retweetUsers[1:]\n",
    "for i in range(len(retweetUsers)):\n",
    "    retweetUsers[i] = retweetUsers[i].replace(\"@\", \"\")\n",
    "print(\"Names of users that someone have retweet something of them\")\n",
    "print(retweetUsers[0:5])\n",
    "print(\"------------------------------------------------\")\n",
    "edgesList = list(edgesList)\n",
    "for i in range(len(edgesList)):\n",
    "    edgesList[i] = edgesList[i].replace(\"@\", \"\")\n",
    "print(\"some of edges\")\n",
    "print(edgesList[0:5])\n",
    "print(\"------------------------------------------------\")"
   ]
  },
  {
   "cell_type": "markdown",
   "metadata": {},
   "source": [
    "Prwta kanw import thn vivliothhkh pou tha xreiastw gia na ftiaxnw to grafhme"
   ]
  },
  {
   "cell_type": "code",
   "execution_count": 5,
   "metadata": {
    "collapsed": true
   },
   "outputs": [],
   "source": [
    "import networkx as nx\n",
    "%matplotlib inline"
   ]
  },
  {
   "cell_type": "markdown",
   "metadata": {},
   "source": [
    "ftiaxnw to grafhme"
   ]
  },
  {
   "cell_type": "code",
   "execution_count": 6,
   "metadata": {
    "collapsed": false
   },
   "outputs": [
    {
     "name": "stdout",
     "output_type": "stream",
     "text": [
      "[('LEFTH00K', 'DavidGoldbergNY'), ('LEFTH00K', 'FrankLuntz'), ('LEFTH00K', 'howdidyouwakeup'), ('LEFTH00K', 'NaimaHazelton'), ('LEFTH00K', 'PizzaPartyBen')]\n",
      "['LEFTH00K', 'DavidGoldbergNY', 'merenlan', 'ZaibatsuPlanet', 'jcmarbury']\n"
     ]
    }
   ],
   "source": [
    "edgesListWithTuples = []\n",
    "for edges in edgesList:\n",
    "    if(len(edges.split(\"-\")) > 2):\n",
    "        continue\n",
    "    newEdge = tuple(edges.split(\"-\"))\n",
    "    edgesListWithTuples.append(newEdge)\n",
    "    \n",
    "G = nx.Graph()\n",
    "G.add_edges_from(edgesListWithTuples)\n",
    "print(G.edges()[0:5])\n",
    "print(G.nodes()[0:5])\n",
    "\n",
    "winsound.Beep(450, 2000)"
   ]
  },
  {
   "cell_type": "code",
   "execution_count": 7,
   "metadata": {
    "collapsed": false
   },
   "outputs": [
    {
     "name": "stdout",
     "output_type": "stream",
     "text": [
      "Total deleted users: 422131\n"
     ]
    }
   ],
   "source": [
    "nodesThatIsNotIntoFile = []\n",
    "allUsersSet = set(allUsers)\n",
    "for reUsers in retweetUsers:\n",
    "    if(not(reUsers in allUsersSet)):\n",
    "        nodesThatIsNotIntoFile.append(reUsers)\n",
    "print(\"Total deleted users: \" + str(len(nodesThatIsNotIntoFile)))\n",
    "winsound.Beep(450, 2000)"
   ]
  },
  {
   "cell_type": "code",
   "execution_count": 8,
   "metadata": {
    "collapsed": false
   },
   "outputs": [
    {
     "name": "stdout",
     "output_type": "stream",
     "text": [
      "Retweet users: 13350\n"
     ]
    }
   ],
   "source": [
    "print(\"Retweet users: \" + str(len(retweetUsers) - len(nodesThatIsNotIntoFile)))\n",
    "winsound.Beep(450, 2000)"
   ]
  },
  {
   "cell_type": "markdown",
   "metadata": {},
   "source": [
    "Diagrafw autoys tous xrhstes apo to grafhma"
   ]
  },
  {
   "cell_type": "code",
   "execution_count": 9,
   "metadata": {
    "collapsed": true
   },
   "outputs": [],
   "source": [
    "nodesThatIsNotIntoFile1 = []\n",
    "nodesSet = set(G.nodes())\n",
    "for n in nodesThatIsNotIntoFile:\n",
    "    if(n in nodesSet):\n",
    "        nodesThatIsNotIntoFile1.append(n)\n",
    "nodesThatIsNotIntoFile1 = list(set(nodesThatIsNotIntoFile1))\n",
    "winsound.Beep(450, 2000)"
   ]
  },
  {
   "cell_type": "code",
   "execution_count": 10,
   "metadata": {
    "collapsed": false
   },
   "outputs": [
    {
     "name": "stdout",
     "output_type": "stream",
     "text": [
      "422131\n",
      "421553\n"
     ]
    }
   ],
   "source": [
    "print(len(nodesThatIsNotIntoFile))\n",
    "print(len(nodesThatIsNotIntoFile1))\n",
    "winsound.Beep(450, 2000)"
   ]
  },
  {
   "cell_type": "code",
   "execution_count": 11,
   "metadata": {
    "collapsed": false
   },
   "outputs": [
    {
     "name": "stdout",
     "output_type": "stream",
     "text": [
      "Nodes before: 566523\n",
      "Edges before: 1897347\n",
      "Nodes after: 144970\n",
      "Edges after: 74547\n"
     ]
    }
   ],
   "source": [
    "print(\"Nodes before: \" + str(len(G.nodes())))\n",
    "print(\"Edges before: \" + str(len(G.edges())))\n",
    "for n in nodesThatIsNotIntoFile1:\n",
    "    #print(n)\n",
    "    G.remove_node(n)\n",
    "print(\"Nodes after: \" + str(len(G.nodes())))\n",
    "print(\"Edges after: \" + str(len(G.edges())))\n",
    "winsound.Beep(450, 2000)"
   ]
  },
  {
   "cell_type": "markdown",
   "metadata": {},
   "source": [
    "prepei twra na diagrapsw epanalhptika tous komvous pou exoun vathmo < 10"
   ]
  },
  {
   "cell_type": "code",
   "execution_count": 12,
   "metadata": {
    "collapsed": false
   },
   "outputs": [
    {
     "name": "stdout",
     "output_type": "stream",
     "text": [
      "Nodes before: 144970\n",
      "Nodes after: 2436\n",
      "Nodes before: 2436\n",
      "Nodes after: 1698\n",
      "Nodes before: 1698\n",
      "Nodes after: 1558\n",
      "Nodes before: 1558\n",
      "Nodes after: 1531\n",
      "Nodes before: 1531\n",
      "Nodes after: 1523\n",
      "Nodes before: 1523\n",
      "Nodes after: 1520\n",
      "Nodes before: 1520\n",
      "Nodes after: 1516\n",
      "Nodes before: 1516\n",
      "Nodes after: 1513\n",
      "Nodes before: 1513\n",
      "Nodes after: 1513\n"
     ]
    }
   ],
   "source": [
    "finalNodes = list(G.nodes())\n",
    "nodesForDelete = []\n",
    "t = 10\n",
    "while(t > 0):\n",
    "    nodesForDelete = []\n",
    "    for n in list(G.nodes()):\n",
    "        if(G.degree(n) < 10):\n",
    "            nodesForDelete.append(n)\n",
    "    print(\"Nodes before: \" + str(len(G.nodes())))\n",
    "    for n in nodesForDelete:\n",
    "        G.remove_node(n)\n",
    "    print(\"Nodes after: \" + str(len(G.nodes())))\n",
    "    t = len(nodesForDelete)\n",
    "winsound.Beep(450, 2000)"
   ]
  },
  {
   "cell_type": "code",
   "execution_count": 13,
   "metadata": {
    "collapsed": false
   },
   "outputs": [
    {
     "name": "stdout",
     "output_type": "stream",
     "text": [
      "Nodes: 1513\n",
      "Edges: 21008\n"
     ]
    }
   ],
   "source": [
    "print(\"Nodes: \" + str(len(G.nodes())))\n",
    "print(\"Edges: \" + str(len(G.edges())))\n",
    "winsound.Beep(450, 2000)"
   ]
  },
  {
   "cell_type": "code",
   "execution_count": 14,
   "metadata": {
    "collapsed": false
   },
   "outputs": [
    {
     "name": "stdout",
     "output_type": "stream",
     "text": [
      "[('LEFTH00K', 'SheriffClarke'), ('LEFTH00K', 'big_carsonrocks'), ('LEFTH00K', 'joeelector')]\n"
     ]
    }
   ],
   "source": [
    "print(G.edges()[0:3])"
   ]
  },
  {
   "cell_type": "markdown",
   "metadata": {},
   "source": [
    "Twra prepei na parw thn megalyterh synektikh synistwsa tou grafhmatos"
   ]
  },
  {
   "cell_type": "code",
   "execution_count": 15,
   "metadata": {
    "collapsed": false
   },
   "outputs": [
    {
     "name": "stdout",
     "output_type": "stream",
     "text": [
      "Total number of coherent component : 1\n",
      "Nodes: 1513\n",
      "Edges: 21008\n"
     ]
    }
   ],
   "source": [
    "print(\"Total number of coherent component : \" + str(nx.number_connected_components(G)))\n",
    "for GC in nx.connected_component_subgraphs(G):\n",
    "    print(\"Nodes: \" + str(len(GC.nodes())))\n",
    "    print(\"Edges: \" + str(len(GC.edges())))\n",
    "winsound.Beep(450, 2000)"
   ]
  },
  {
   "cell_type": "markdown",
   "metadata": {},
   "source": [
    "Prepei na vrw posoi einai akolouthoi tis clinton kai posoi tou trump"
   ]
  },
  {
   "cell_type": "code",
   "execution_count": 16,
   "metadata": {
    "collapsed": false
   },
   "outputs": [
    {
     "name": "stdout",
     "output_type": "stream",
     "text": [
      "100000\n",
      "200000\n",
      "400000\n",
      "800000\n",
      "1000000\n",
      "2000000\n",
      "3000000\n",
      "5000000\n",
      "1513\n"
     ]
    }
   ],
   "source": [
    "finalUsersNodes = G.nodes()\n",
    "finalUsersNodes = set(finalUsersNodes)\n",
    "userDict = {}\n",
    "\n",
    "file = open(\"clinton_trump_tweets.txt\", \"r\")\n",
    "c = 0\n",
    "for line in file:\n",
    "    c = c + 1\n",
    "    if(c == 100000 or c == 200000 or c == 400000 or c == 800000 or c == 1000000 or c == 2000000 or c == 3000000 or c == 5000000):\n",
    "        print(c)\n",
    "    line = line.replace('\\n', \"\")\n",
    "    splittedTweet = line.split(\"\\t\")\n",
    "    for items in range(len(splittedTweet)):\n",
    "        if(splittedTweet[items].isdigit()):\n",
    "            username = splittedTweet[items - 1]\n",
    "            if(username in finalUsersNodes):\n",
    "                if(not(str(splittedTweet[items - 1]) in userDict)):\n",
    "                    userDict[str(splittedTweet[items])] = username\n",
    "            break\n",
    "print(len(userDict))\n",
    "file.close()\n",
    "winsound.Beep(450, 2000)"
   ]
  },
  {
   "cell_type": "code",
   "execution_count": 17,
   "metadata": {
    "collapsed": false
   },
   "outputs": [
    {
     "name": "stdout",
     "output_type": "stream",
     "text": [
      "Trump followers: 665\n",
      "Trump followers %: 43.95241242564442\n",
      "Clinton followers: 848\n",
      "Clinton followers %: 56.04758757435558\n"
     ]
    }
   ],
   "source": [
    "trumpFollowersCounter = 0\n",
    "trumpFollowersList = []\n",
    "trumpFollowersListNames = []\n",
    "clintonFollowersCounter = 0\n",
    "clintonFollowersList = []\n",
    "clintonFollowersListNames = []\n",
    "\n",
    "f = open(\"clinton_trump_user_classes.txt\", \"r\")\n",
    "\n",
    "for line in f:\n",
    "    line = line.replace(\"\\n\", \"\")\n",
    "    text = line.split(\"\\t\")\n",
    "    #print(text)\n",
    "    if(text[0] in userDict):\n",
    "        if(str(text[1]) == \"0\"):\n",
    "            trumpFollowersCounter = trumpFollowersCounter + 1\n",
    "            trumpFollowersList.append(str(text[0]))\n",
    "        elif(str(text[1]) == \"1\"):\n",
    "            clintonFollowersCounter = clintonFollowersCounter + 1\n",
    "            clintonFollowersList.append(str(text[0]))\n",
    "    \n",
    "\n",
    "print(\"Trump followers: \" + str(trumpFollowersCounter))\n",
    "print(\"Trump followers %: \" + str(trumpFollowersCounter*100/len(userDict)))\n",
    "print(\"Clinton followers: \" + str(clintonFollowersCounter))\n",
    "print(\"Clinton followers %: \" + str(clintonFollowersCounter*100/len(userDict)))\n",
    "\n",
    "for i in trumpFollowersList:\n",
    "    trumpFollowersListNames.append(userDict[i])\n",
    "for i in clintonFollowersList:\n",
    "    clintonFollowersListNames.append(userDict[i])\n",
    "\n",
    "f.close()\n",
    "winsound.Beep(450, 2000)"
   ]
  },
  {
   "cell_type": "markdown",
   "metadata": {},
   "source": [
    "Trexw ton algorithmo PageRank"
   ]
  },
  {
   "cell_type": "code",
   "execution_count": 18,
   "metadata": {
    "collapsed": false
   },
   "outputs": [],
   "source": [
    "pageRankResult = nx.pagerank(G)\n",
    "winsound.Beep(450, 2000)"
   ]
  },
  {
   "cell_type": "markdown",
   "metadata": {},
   "source": [
    "Tha vrw tous 10 komvous me to kalytero pagerank"
   ]
  },
  {
   "cell_type": "code",
   "execution_count": 19,
   "metadata": {
    "collapsed": false
   },
   "outputs": [
    {
     "name": "stdout",
     "output_type": "stream",
     "text": [
      "TOP 10\n",
      "--------------------------------\n",
      "('newtgingrich', 0.00893149948188321)\n",
      "('Lrihendry', 0.008517469611928787)\n",
      "('SheriffClarke', 0.00816142054828521)\n",
      "('riotwomennn', 0.007431626046229552)\n",
      "('mmpadellan', 0.007228417497781392)\n",
      "('DavidCornDC', 0.007010635139303161)\n",
      "('GeorgeTakei', 0.006514185455234762)\n",
      "('TheBaxterBean', 0.006114907640587179)\n",
      "('RealAlexJones', 0.005968180394790669)\n",
      "('NetworksManager', 0.005917498943030055)\n"
     ]
    }
   ],
   "source": [
    "import operator\n",
    "\n",
    "sortedPageRank = sorted(pageRankResult.items(), key=operator.itemgetter(1))[::-1]\n",
    "print(\"TOP 10\")\n",
    "print(\"--------------------------------\")\n",
    "\n",
    "for i in range(10):\n",
    "    print(sortedPageRank[i])"
   ]
  },
  {
   "cell_type": "code",
   "execution_count": 20,
   "metadata": {
    "collapsed": false
   },
   "outputs": [
    {
     "name": "stdout",
     "output_type": "stream",
     "text": [
      "['newtgingrich', 'Lrihendry', 'SheriffClarke', 'riotwomennn', 'mmpadellan', 'DavidCornDC', 'GeorgeTakei', 'TheBaxterBean', 'RealAlexJones', 'NetworksManager']\n"
     ]
    }
   ],
   "source": [
    "names = []\n",
    "for i in range(10):\n",
    "    names.append(sortedPageRank[i][0])\n",
    "print(names)"
   ]
  },
  {
   "cell_type": "code",
   "execution_count": 21,
   "metadata": {
    "collapsed": false
   },
   "outputs": [
    {
     "data": {
      "image/png": "[encoded data removed]",
      "text/plain": [
       "<matplotlib.figure.Figure at 0x1c3449d6470>"
      ]
     },
     "metadata": {},
     "output_type": "display_data"
    }
   ],
   "source": [
    "H = G.subgraph(names)\n",
    "nx.draw_networkx(H)"
   ]
  },
  {
   "cell_type": "markdown",
   "metadata": {},
   "source": [
    "Trexw ton algorithmo HITS"
   ]
  },
  {
   "cell_type": "code",
   "execution_count": 22,
   "metadata": {
    "collapsed": true
   },
   "outputs": [],
   "source": [
    "[hubs, authorities]= nx.hits(G)\n",
    "winsound.Beep(450, 2000)"
   ]
  },
  {
   "cell_type": "code",
   "execution_count": 23,
   "metadata": {
    "collapsed": false
   },
   "outputs": [
    {
     "name": "stdout",
     "output_type": "stream",
     "text": [
      "TOP 10\n",
      "--------------------------------\n",
      "('riotwomennn', 0.008870836778883964)\n",
      "('mmpadellan', 0.00817083105272767)\n",
      "('DavidCornDC', 0.007595813326102189)\n",
      "('GeorgeTakei', 0.00697088650065726)\n",
      "('TheBaxterBean', 0.006948449267683323)\n",
      "('Lee_in_Iowa', 0.006562001507445767)\n",
      "('docrocktex26', 0.0064805395001143766)\n",
      "('Varidienne', 0.006395788258693669)\n",
      "('KevinDarryl', 0.005972947099166992)\n",
      "('timkaine', 0.005737364266619002)\n"
     ]
    }
   ],
   "source": [
    "sortedHubs = sorted(hubs.items(), key=operator.itemgetter(1))[::-1]\n",
    "print(\"TOP 10\")\n",
    "print(\"--------------------------------\")\n",
    "\n",
    "for i in range(10):\n",
    "    print(sortedHubs[i])"
   ]
  },
  {
   "cell_type": "code",
   "execution_count": 24,
   "metadata": {
    "collapsed": false
   },
   "outputs": [
    {
     "name": "stdout",
     "output_type": "stream",
     "text": [
      "['riotwomennn', 'mmpadellan', 'DavidCornDC', 'GeorgeTakei', 'TheBaxterBean', 'Lee_in_Iowa', 'docrocktex26', 'Varidienne', 'KevinDarryl', 'timkaine']\n"
     ]
    }
   ],
   "source": [
    "namesHubs = []\n",
    "for i in range(10):\n",
    "    namesHubs.append(sortedHubs[i][0])\n",
    "print(namesHubs)"
   ]
  },
  {
   "cell_type": "code",
   "execution_count": 25,
   "metadata": {
    "collapsed": false
   },
   "outputs": [
    {
     "data": {
      "image/png": "[encoded data removed]",
      "text/plain": [
       "<matplotlib.figure.Figure at 0x1c3686ca780>"
      ]
     },
     "metadata": {},
     "output_type": "display_data"
    }
   ],
   "source": [
    "H = G.subgraph(namesHubs)\n",
    "nx.draw_networkx(H)"
   ]
  },
  {
   "cell_type": "markdown",
   "metadata": {},
   "source": [
    "Twra tha efarmosw ton algorithmo Girvan-Newman"
   ]
  },
  {
   "cell_type": "code",
   "execution_count": 26,
   "metadata": {
    "collapsed": true
   },
   "outputs": [],
   "source": [
    "import time\n",
    "from sklearn.metrics import confusion_matrix"
   ]
  },
  {
   "cell_type": "code",
   "execution_count": 27,
   "metadata": {
    "collapsed": true
   },
   "outputs": [],
   "source": [
    "import numpy as np\n",
    "import scipy as sp\n",
    "import scipy.sparse as sp_sparse\n",
    "import scipy.spatial.distance as sp_dist\n",
    "\n",
    "import matplotlib.pyplot as plt\n",
    "\n",
    "import sklearn as sk\n",
    "import sklearn.datasets as sk_data\n",
    "import sklearn.metrics as metrics\n",
    "from sklearn import preprocessing\n",
    "import sklearn.cluster as sk_cluster\n",
    "import sklearn.feature_extraction.text as sk_text\n",
    "\n",
    "\n",
    "import scipy.cluster.hierarchy as hr\n",
    "\n",
    "import time\n",
    "import seaborn as sns\n",
    "\n",
    "#%matplotlib inline\n",
    "import sklearn.cluster as sk_cluster"
   ]
  },
  {
   "cell_type": "code",
   "execution_count": 28,
   "metadata": {
    "collapsed": false
   },
   "outputs": [
    {
     "name": "stdout",
     "output_type": "stream",
     "text": [
      "TIME(delete 1 edge):201.1672225153744 seconds\n"
     ]
    }
   ],
   "source": [
    "start = time.clock()\n",
    "BC = nx.edge_betweenness_centrality(G)\n",
    "end = time.clock()\n",
    "print(\"TIME(delete 1 edge):\" + str(end-start) + \" seconds\")\n",
    "winsound.Beep(450, 2000)"
   ]
  },
  {
   "cell_type": "code",
   "execution_count": 29,
   "metadata": {
    "collapsed": false
   },
   "outputs": [
    {
     "name": "stdout",
     "output_type": "stream",
     "text": [
      "TIME(delete 100 edges): 20116.722251537438 seconds\n",
      "TIME(delete 500 edges): 100583.6112576872 seconds\n",
      "TIME(delete 1000 edges): 201167.2225153744 seconds\n"
     ]
    }
   ],
   "source": [
    "deleteEdges = [100, 500, 1000]\n",
    "time1 = end - start\n",
    "for i in deleteEdges:\n",
    "    print(\"TIME(delete \" + str(i) + \" edges): \" + str(time1*i) + \" seconds\")"
   ]
  },
  {
   "cell_type": "markdown",
   "metadata": {},
   "source": [
    "Tropopoihsh tou algorithmou wste na afairei akmes se partides"
   ]
  },
  {
   "cell_type": "code",
   "execution_count": 30,
   "metadata": {
    "collapsed": false
   },
   "outputs": [],
   "source": [
    "sortedBC = sorted(BC.items(), key=operator.itemgetter(1))[::-1]\n",
    "winsound.Beep(450, 2000)"
   ]
  },
  {
   "cell_type": "code",
   "execution_count": 31,
   "metadata": {
    "collapsed": true
   },
   "outputs": [],
   "source": [
    "def runAlgorithm(iterations):\n",
    "    global G\n",
    "    ll = []\n",
    "    for i in range(len(sortedBC)):\n",
    "        ll.append(sortedBC[i][0])\n",
    "    start = time.clock()\n",
    "    t = 1\n",
    "    subCounter = 0\n",
    "    addAfter = []\n",
    "\n",
    "        while(subCounter <= 1):\n",
    "        print(t)\n",
    "        top = ll[0:iterations]\n",
    "        addAfter = addAfter + top\n",
    "        G.remove_edges_from(top)\n",
    "        subCounter = nx.number_connected_components(G)\n",
    "        if(subCounter >= 2):\n",
    "            break\n",
    "        tempBC = nx.edge_betweenness_centrality(G)\n",
    "        tempsortedBC = sorted(tempBC.items(), key=operator.itemgetter(1))[::-1]\n",
    "        ll = []\n",
    "        for i in range(len(tempsortedBC)):\n",
    "            ll.append(tempsortedBC[i][0])\n",
    "        t = t + 1\n",
    "    end = time.clock()\n",
    "    print(\"TIME: \" + str(end - start))\n",
    "    winsound.Beep(450, 2000)\n",
    "    return(addAfter)"
   ]
  },
  {
   "cell_type": "code",
   "execution_count": 42,
   "metadata": {
    "collapsed": true
   },
   "outputs": [],
   "source": [
    "def statistics(sg):\n",
    "    global G\n",
    "    averageEpityxia = 0\n",
    "    trueLabels = []\n",
    "    predictedLabels = []\n",
    "    subCounter = 0\n",
    "    \n",
    "    for subgraphs in sg:\n",
    "        print(\"?????????????????????????????\")\n",
    "        print(\"?????????????????????????????\")\n",
    "        print(\"?????????????????????????????\")\n",
    "        subCounter = subCounter + 1\n",
    "        nodesList = list(subgraphs.nodes())\n",
    "        zeroOneList = []\n",
    "        for i in nodesList:\n",
    "            if(i in set(trumpFollowersListNames)):\n",
    "                zeroOneList.append(0)\n",
    "                trueLabels.append(0)\n",
    "            else:\n",
    "                zeroOneList.append(1)\n",
    "                trueLabels.append(1)\n",
    "        counterClinton = zeroOneList.count(1)\n",
    "        counterTrump = zeroOneList.count(0)\n",
    "        if(counterTrump > counterClinton):\n",
    "            epityxia = (1.0*counterTrump)/len(zeroOneList)\n",
    "            predictedLabels = predictedLabels + [0]*len(nodesList)\n",
    "        else:\n",
    "            epityxia = (1.0*counterClinton)/len(zeroOneList)\n",
    "            predictedLabels = predictedLabels + [1]*len(nodesList)\n",
    "        averageEpityxia = averageEpityxia + epityxia\n",
    "        print(\"PageRank algorithm\")\n",
    "        pageRank = nx.pagerank(subgraphs)\n",
    "        sortPageRank = sorted(pageRank.items(), key=operator.itemgetter(1))[::-1]\n",
    "        print(\"TOP 10\")\n",
    "        print(\"--------------------------------\")\n",
    "        if(len(sortPageRank) < 10):\n",
    "            lenValue = len(sortPageRank)\n",
    "        else:\n",
    "            lenValue = 10\n",
    "        for i in range(lenValue):\n",
    "            print(sortPageRank[i])\n",
    "        names = []\n",
    "        for i in range(lenValue):\n",
    "            names.append(sortPageRank[i][0])\n",
    "        print(names)\n",
    "        if(len(nodesList) == 1):\n",
    "            continue\n",
    "        print(\"HITS algorithm\")\n",
    "        [hubs, authorities]= nx.hits(subgraphs)\n",
    "        sortedHubs = sorted(hubs.items(), key=operator.itemgetter(1))[::-1]\n",
    "        print(\"TOP 10\")\n",
    "        print(\"--------------------------------\")\n",
    "        for i in range(lenValue):\n",
    "            print(sortedHubs[i])\n",
    "        namesHubs = []\n",
    "        for i in range(lenValue):\n",
    "            namesHubs.append(sortedHubs[i][0])\n",
    "        print(namesHubs)\n",
    "\n",
    "    print(\"Average success: \" + str(averageEpityxia*100/subCounter))\n",
    "    confusion = metrics.confusion_matrix(trueLabels, predictedLabels)\n",
    "    print(confusion)\n",
    "    plt.xlabel(\"trueLabels\")\n",
    "    plt.ylabel(\"predictedLabels\")\n",
    "    plt.pcolor(confusion,cmap=plt.cm.Reds)\n",
    "    plt.show()\n",
    "    winsound.Beep(450, 2000)"
   ]
  },
  {
   "cell_type": "code",
   "execution_count": 45,
   "metadata": {
    "collapsed": false
   },
   "outputs": [
    {
     "name": "stdout",
     "output_type": "stream",
     "text": [
      "@@@ ITERATION: 500 @@@\n",
      "\n",
      "\n",
      "1\n",
      "2\n",
      "3\n",
      "TIME: 336.9332993625651\n",
      "?????????????????????????????\n",
      "?????????????????????????????\n",
      "?????????????????????????????\n",
      "PageRank algorithm\n",
      "TOP 10\n",
      "--------------------------------\n",
      "('Lrihendry', 0.020778549624847074)\n",
      "('newtgingrich', 0.020693198360199224)\n",
      "('SheriffClarke', 0.019763996768852883)\n",
      "('RealAlexJones', 0.014722262961328834)\n",
      "('roycan79', 0.014535362357836357)\n",
      "('NetworksManager', 0.014513688605868321)\n",
      "('AnnCoulter', 0.012732636244668501)\n",
      "('singernews', 0.00960980388531781)\n",
      "('HeyTammyBruce', 0.008817552065621037)\n",
      "('joelpollak', 0.008610608092849605)\n",
      "['Lrihendry', 'newtgingrich', 'SheriffClarke', 'RealAlexJones', 'roycan79', 'NetworksManager', 'AnnCoulter', 'singernews', 'HeyTammyBruce', 'joelpollak']\n",
      "HITS algorithm\n",
      "TOP 10\n",
      "--------------------------------\n",
      "('Lrihendry', 0.01365379319698627)\n",
      "('newtgingrich', 0.01242736737260801)\n",
      "('SheriffClarke', 0.012009036345671308)\n",
      "('NetworksManager', 0.009959085895632725)\n",
      "('roycan79', 0.009685341309535946)\n",
      "('RealAlexJones', 0.009540343277979526)\n",
      "('AnnCoulter', 0.007723659094334587)\n",
      "('Scarlett210', 0.006033544455781519)\n",
      "('gs777gs777', 0.005955957229973127)\n",
      "('Juliet777777', 0.005932274281262001)\n",
      "['Lrihendry', 'newtgingrich', 'SheriffClarke', 'NetworksManager', 'roycan79', 'RealAlexJones', 'AnnCoulter', 'Scarlett210', 'gs777gs777', 'Juliet777777']\n",
      "?????????????????????????????\n",
      "?????????????????????????????\n",
      "?????????????????????????????\n",
      "PageRank algorithm\n",
      "TOP 10\n",
      "--------------------------------\n",
      "('riotwomennn', 0.013412603366969828)\n",
      "('mmpadellan', 0.013050355591450126)\n",
      "('DavidCornDC', 0.012495714317929375)\n",
      "('GeorgeTakei', 0.011657036325984796)\n",
      "('TheBaxterBean', 0.010848356075593287)\n",
      "('docrocktex26', 0.009503901461745153)\n",
      "('timkaine', 0.009031209086225905)\n",
      "('Slate', 0.008407898302190391)\n",
      "('Lee_in_Iowa', 0.008088840612267627)\n",
      "('KevinDarryl', 0.00777226119690073)\n",
      "['riotwomennn', 'mmpadellan', 'DavidCornDC', 'GeorgeTakei', 'TheBaxterBean', 'docrocktex26', 'timkaine', 'Slate', 'Lee_in_Iowa', 'KevinDarryl']\n",
      "HITS algorithm\n",
      "TOP 10\n",
      "--------------------------------\n",
      "('riotwomennn', 0.009566496228447593)\n",
      "('mmpadellan', 0.008805548289792308)\n",
      "('DavidCornDC', 0.008132103082218296)\n",
      "('GeorgeTakei', 0.00748441011434733)\n",
      "('TheBaxterBean', 0.007362062848604407)\n",
      "('Lee_in_Iowa', 0.007061172988013255)\n",
      "('docrocktex26', 0.006999027906801186)\n",
      "('Varidienne', 0.006895659403018608)\n",
      "('KevinDarryl', 0.006470999416713855)\n",
      "('timkaine', 0.006123025458117605)\n",
      "['riotwomennn', 'mmpadellan', 'DavidCornDC', 'GeorgeTakei', 'TheBaxterBean', 'Lee_in_Iowa', 'docrocktex26', 'Varidienne', 'KevinDarryl', 'timkaine']\n",
      "?????????????????????????????\n",
      "?????????????????????????????\n",
      "?????????????????????????????\n",
      "PageRank algorithm\n",
      "TOP 10\n",
      "--------------------------------\n",
      "('Sparblack1213', 1.0)\n",
      "['Sparblack1213']\n",
      "?????????????????????????????\n",
      "?????????????????????????????\n",
      "?????????????????????????????\n",
      "PageRank algorithm\n",
      "TOP 10\n",
      "--------------------------------\n",
      "('KHerriage', 1.0)\n",
      "['KHerriage']\n",
      "?????????????????????????????\n",
      "?????????????????????????????\n",
      "?????????????????????????????\n",
      "PageRank algorithm\n",
      "TOP 10\n",
      "--------------------------------\n",
      "('kleegrubaugh', 1.0)\n",
      "['kleegrubaugh']\n",
      "?????????????????????????????\n",
      "?????????????????????????????\n",
      "?????????????????????????????\n",
      "PageRank algorithm\n",
      "TOP 10\n",
      "--------------------------------\n",
      "('Oenonewept', 1.0)\n",
      "['Oenonewept']\n",
      "?????????????????????????????\n",
      "?????????????????????????????\n",
      "?????????????????????????????\n",
      "PageRank algorithm\n",
      "TOP 10\n",
      "--------------------------------\n",
      "('ChinaCatSun', 1.0)\n",
      "['ChinaCatSun']\n",
      "?????????????????????????????\n",
      "?????????????????????????????\n",
      "?????????????????????????????\n",
      "PageRank algorithm\n",
      "TOP 10\n",
      "--------------------------------\n",
      "('HotlineJosh', 0.3987949981601664)\n",
      "('RAMrants', 0.3817175683766465)\n",
      "('Heminator', 0.21948743346318683)\n",
      "['HotlineJosh', 'RAMrants', 'Heminator']\n",
      "HITS algorithm\n",
      "TOP 10\n",
      "--------------------------------\n",
      "('RAMrants', 0.44504186825969294)\n",
      "('HotlineJosh', 0.35689586676529916)\n",
      "('Heminator', 0.19806226497500784)\n",
      "['RAMrants', 'HotlineJosh', 'Heminator']\n",
      "?????????????????????????????\n",
      "?????????????????????????????\n",
      "?????????????????????????????\n",
      "PageRank algorithm\n",
      "TOP 10\n",
      "--------------------------------\n",
      "('DanWheatley4', 0.6491226380641377)\n",
      "('frontlinepbs', 0.3508773619358619)\n",
      "['DanWheatley4', 'frontlinepbs']\n",
      "HITS algorithm\n",
      "TOP 10\n",
      "--------------------------------\n",
      "('DanWheatley4', 0.618033988205325)\n",
      "('frontlinepbs', 0.38196601179467493)\n",
      "['DanWheatley4', 'frontlinepbs']\n",
      "?????????????????????????????\n",
      "?????????????????????????????\n",
      "?????????????????????????????\n",
      "PageRank algorithm\n",
      "TOP 10\n",
      "--------------------------------\n",
      "('Bygd1', 1.0)\n",
      "['Bygd1']\n",
      "?????????????????????????????\n",
      "?????????????????????????????\n",
      "?????????????????????????????\n",
      "PageRank algorithm\n",
      "TOP 10\n",
      "--------------------------------\n",
      "('RobGeorge', 1.0)\n",
      "['RobGeorge']\n",
      "?????????????????????????????\n",
      "?????????????????????????????\n",
      "?????????????????????????????\n",
      "PageRank algorithm\n",
      "TOP 10\n",
      "--------------------------------\n",
      "('ggreenwald', 1.0)\n",
      "['ggreenwald']\n",
      "?????????????????????????????\n",
      "?????????????????????????????\n",
      "?????????????????????????????\n",
      "PageRank algorithm\n",
      "TOP 10\n",
      "--------------------------------\n",
      "('Benito35ddDavis', 1.0)\n",
      "['Benito35ddDavis']\n",
      "?????????????????????????????\n",
      "?????????????????????????????\n",
      "?????????????????????????????\n",
      "PageRank algorithm\n",
      "TOP 10\n",
      "--------------------------------\n",
      "('NamelessCulture', 1.0)\n",
      "['NamelessCulture']\n",
      "?????????????????????????????\n",
      "?????????????????????????????\n",
      "?????????????????????????????\n",
      "PageRank algorithm\n",
      "TOP 10\n",
      "--------------------------------\n",
      "('4AllSoulKind', 1.0)\n",
      "['4AllSoulKind']\n",
      "?????????????????????????????\n",
      "?????????????????????????????\n",
      "?????????????????????????????\n",
      "PageRank algorithm\n",
      "TOP 10\n",
      "--------------------------------\n",
      "('froomkin', 1.0)\n",
      "['froomkin']\n",
      "?????????????????????????????\n",
      "?????????????????????????????\n",
      "?????????????????????????????\n",
      "PageRank algorithm\n",
      "TOP 10\n",
      "--------------------------------\n",
      "('property1', 1.0)\n",
      "['property1']\n",
      "Average success: 97.63982331436591\n",
      "[[631  34]\n",
      " [ 19 829]]\n"
     ]
    },
    {
     "data": {
      "image/png": "[encoded data removed]",
      "text/plain": [
       "<matplotlib.figure.Figure at 0x1c36847b0f0>"
      ]
     },
     "metadata": {},
     "output_type": "display_data"
    },
    {
     "name": "stdout",
     "output_type": "stream",
     "text": [
      "21008\n",
      "@@@ ITERATION: 250 @@@\n",
      "\n",
      "\n",
      "1\n",
      "2\n",
      "3\n",
      "4\n",
      "TIME: 468.9127557014742\n",
      "?????????????????????????????\n",
      "?????????????????????????????\n",
      "?????????????????????????????\n",
      "PageRank algorithm\n",
      "TOP 10\n",
      "--------------------------------\n",
      "('newtgingrich', 0.021040328845272956)\n",
      "('Lrihendry', 0.020208177008159817)\n",
      "('SheriffClarke', 0.01816671389312046)\n",
      "('NetworksManager', 0.01439140481355378)\n",
      "('RealAlexJones', 0.014390960004785342)\n",
      "('roycan79', 0.014240585262083548)\n",
      "('AnnCoulter', 0.012772770790923352)\n",
      "('singernews', 0.009473593191795523)\n",
      "('HeyTammyBruce', 0.008585651154891228)\n",
      "('joelpollak', 0.008542092187367597)\n",
      "['newtgingrich', 'Lrihendry', 'SheriffClarke', 'NetworksManager', 'RealAlexJones', 'roycan79', 'AnnCoulter', 'singernews', 'HeyTammyBruce', 'joelpollak']\n",
      "HITS algorithm\n",
      "TOP 10\n",
      "--------------------------------\n",
      "('Lrihendry', 0.013147344469332417)\n",
      "('newtgingrich', 0.012392080332165689)\n",
      "('SheriffClarke', 0.011299388399913443)\n",
      "('NetworksManager', 0.00995501379628607)\n",
      "('RealAlexJones', 0.009376817755921618)\n",
      "('roycan79', 0.009364918887003786)\n",
      "('AnnCoulter', 0.00767104706585338)\n",
      "('Scarlett210', 0.005903585128876195)\n",
      "('gs777gs777', 0.005865728275740918)\n",
      "('Juliet777777', 0.0057392264106211925)\n",
      "['Lrihendry', 'newtgingrich', 'SheriffClarke', 'NetworksManager', 'RealAlexJones', 'roycan79', 'AnnCoulter', 'Scarlett210', 'gs777gs777', 'Juliet777777']\n",
      "?????????????????????????????\n",
      "?????????????????????????????\n",
      "?????????????????????????????\n",
      "PageRank algorithm\n",
      "TOP 10\n",
      "--------------------------------\n",
      "('riotwomennn', 0.01337039773924598)\n",
      "('mmpadellan', 0.012969502713163066)\n",
      "('DavidCornDC', 0.012518419749952244)\n",
      "('GeorgeTakei', 0.011786257273650295)\n",
      "('TheBaxterBean', 0.010853892104603233)\n",
      "('docrocktex26', 0.00934802153641744)\n",
      "('timkaine', 0.009307800028885803)\n",
      "('Slate', 0.008557012693301058)\n",
      "('Lee_in_Iowa', 0.008076490807348395)\n",
      "('KevinDarryl', 0.007748185701562943)\n",
      "['riotwomennn', 'mmpadellan', 'DavidCornDC', 'GeorgeTakei', 'TheBaxterBean', 'docrocktex26', 'timkaine', 'Slate', 'Lee_in_Iowa', 'KevinDarryl']\n",
      "HITS algorithm\n",
      "TOP 10\n",
      "--------------------------------\n",
      "('riotwomennn', 0.009524249167667559)\n",
      "('mmpadellan', 0.008758643580588326)\n",
      "('DavidCornDC', 0.008097734697819083)\n",
      "('GeorgeTakei', 0.007475808060624111)\n",
      "('TheBaxterBean', 0.0073239708828726265)\n",
      "('Lee_in_Iowa', 0.007014974474920685)\n",
      "('docrocktex26', 0.00685397266779013)\n",
      "('Varidienne', 0.006747769769034612)\n",
      "('KevinDarryl', 0.006446312257584613)\n",
      "('timkaine', 0.006106539218906269)\n",
      "['riotwomennn', 'mmpadellan', 'DavidCornDC', 'GeorgeTakei', 'TheBaxterBean', 'Lee_in_Iowa', 'docrocktex26', 'Varidienne', 'KevinDarryl', 'timkaine']\n",
      "?????????????????????????????\n",
      "?????????????????????????????\n",
      "?????????????????????????????\n",
      "PageRank algorithm\n",
      "TOP 10\n",
      "--------------------------------\n",
      "('TripawDaisy', 1.0)\n",
      "['TripawDaisy']\n",
      "?????????????????????????????\n",
      "?????????????????????????????\n",
      "?????????????????????????????\n",
      "PageRank algorithm\n",
      "TOP 10\n",
      "--------------------------------\n",
      "('Sparblack1213', 1.0)\n",
      "['Sparblack1213']\n",
      "?????????????????????????????\n",
      "?????????????????????????????\n",
      "?????????????????????????????\n",
      "PageRank algorithm\n",
      "TOP 10\n",
      "--------------------------------\n",
      "('kleegrubaugh', 1.0)\n",
      "['kleegrubaugh']\n",
      "?????????????????????????????\n",
      "?????????????????????????????\n",
      "?????????????????????????????\n",
      "PageRank algorithm\n",
      "TOP 10\n",
      "--------------------------------\n",
      "('Oenonewept', 1.0)\n",
      "['Oenonewept']\n",
      "?????????????????????????????\n",
      "?????????????????????????????\n",
      "?????????????????????????????\n",
      "PageRank algorithm\n",
      "TOP 10\n",
      "--------------------------------\n",
      "('Heminator', 1.0)\n",
      "['Heminator']\n",
      "?????????????????????????????\n",
      "?????????????????????????????\n",
      "?????????????????????????????\n",
      "PageRank algorithm\n",
      "TOP 10\n",
      "--------------------------------\n",
      "('jpwilloughby', 1.0)\n",
      "['jpwilloughby']\n",
      "?????????????????????????????\n",
      "?????????????????????????????\n",
      "?????????????????????????????\n",
      "PageRank algorithm\n",
      "TOP 10\n",
      "--------------------------------\n",
      "('HotlineJosh', 1.0)\n",
      "['HotlineJosh']\n",
      "?????????????????????????????\n",
      "?????????????????????????????\n",
      "?????????????????????????????\n",
      "PageRank algorithm\n",
      "TOP 10\n",
      "--------------------------------\n",
      "('RobGeorge', 1.0)\n",
      "['RobGeorge']\n",
      "?????????????????????????????\n",
      "?????????????????????????????\n",
      "?????????????????????????????\n",
      "PageRank algorithm\n",
      "TOP 10\n",
      "--------------------------------\n",
      "('BarrieNJ', 1.0)\n",
      "['BarrieNJ']\n",
      "?????????????????????????????\n",
      "?????????????????????????????\n",
      "?????????????????????????????\n",
      "PageRank algorithm\n",
      "TOP 10\n",
      "--------------------------------\n",
      "('MGoesler', 1.0)\n",
      "['MGoesler']\n",
      "?????????????????????????????\n",
      "?????????????????????????????\n",
      "?????????????????????????????\n",
      "PageRank algorithm\n",
      "TOP 10\n",
      "--------------------------------\n",
      "('TheStalwart', 1.0)\n",
      "['TheStalwart']\n",
      "Average success: 99.4772016763279\n",
      "[[632  33]\n",
      " [ 19 829]]\n"
     ]
    },
    {
     "data": {
      "image/png": "[encoded data removed]",
      "text/plain": [
       "<matplotlib.figure.Figure at 0x1c3088aa0f0>"
      ]
     },
     "metadata": {},
     "output_type": "display_data"
    },
    {
     "name": "stdout",
     "output_type": "stream",
     "text": [
      "21008\n",
      "@@@ ITERATION: 100 @@@\n",
      "\n",
      "\n",
      "1\n",
      "2\n",
      "3\n",
      "4\n",
      "5\n",
      "6\n",
      "TIME: 900.6638198035894\n",
      "?????????????????????????????\n",
      "?????????????????????????????\n",
      "?????????????????????????????\n",
      "PageRank algorithm\n",
      "TOP 10\n",
      "--------------------------------\n",
      "('newtgingrich', 0.009118848247196635)\n",
      "('Lrihendry', 0.008843757712558842)\n",
      "('SheriffClarke', 0.008427133481235614)\n",
      "('riotwomennn', 0.00744387367481426)\n",
      "('mmpadellan', 0.007332534231164927)\n",
      "('DavidCornDC', 0.007055417000550637)\n",
      "('GeorgeTakei', 0.006598803068916929)\n",
      "('RealAlexJones', 0.006190929573796133)\n",
      "('TheBaxterBean', 0.006136590809309848)\n",
      "('NetworksManager', 0.006122530751987624)\n",
      "['newtgingrich', 'Lrihendry', 'SheriffClarke', 'riotwomennn', 'mmpadellan', 'DavidCornDC', 'GeorgeTakei', 'RealAlexJones', 'TheBaxterBean', 'NetworksManager']\n",
      "HITS algorithm\n",
      "TOP 10\n",
      "--------------------------------\n",
      "('riotwomennn', 0.009326277733496544)\n",
      "('mmpadellan', 0.00863134783333872)\n",
      "('DavidCornDC', 0.00799410366758237)\n",
      "('GeorgeTakei', 0.007346037613767311)\n",
      "('TheBaxterBean', 0.007303304223668688)\n",
      "('Lee_in_Iowa', 0.0069225288567849735)\n",
      "('docrocktex26', 0.006839547521326934)\n",
      "('Varidienne', 0.006684359962192671)\n",
      "('KevinDarryl', 0.006310945534410338)\n",
      "('timkaine', 0.006052347009953569)\n",
      "['riotwomennn', 'mmpadellan', 'DavidCornDC', 'GeorgeTakei', 'TheBaxterBean', 'Lee_in_Iowa', 'docrocktex26', 'Varidienne', 'KevinDarryl', 'timkaine']\n",
      "?????????????????????????????\n",
      "?????????????????????????????\n",
      "?????????????????????????????\n",
      "PageRank algorithm\n",
      "TOP 10\n",
      "--------------------------------\n",
      "('RobGeorge', 1.0)\n",
      "['RobGeorge']\n",
      "?????????????????????????????\n",
      "?????????????????????????????\n",
      "?????????????????????????????\n",
      "PageRank algorithm\n",
      "TOP 10\n",
      "--------------------------------\n",
      "('NamelessCulture', 1.0)\n",
      "['NamelessCulture']\n",
      "Average success: 85.35186410765498\n",
      "[[  1 664]\n",
      " [  0 848]]\n"
     ]
    },
    {
     "data": {
      "image/png": "[encoded data removed]",
      "text/plain": [
       "<matplotlib.figure.Figure at 0x1c368b5cf98>"
      ]
     },
     "metadata": {},
     "output_type": "display_data"
    },
    {
     "name": "stdout",
     "output_type": "stream",
     "text": [
      "21008\n",
      "@@@ ITERATION: 50 @@@\n",
      "\n",
      "\n",
      "1\n",
      "2\n",
      "3\n",
      "4\n",
      "5\n",
      "6\n",
      "7\n",
      "8\n",
      "9\n",
      "10\n",
      "11\n",
      "TIME: 1701.1778273117734\n",
      "?????????????????????????????\n",
      "?????????????????????????????\n",
      "?????????????????????????????\n",
      "PageRank algorithm\n",
      "TOP 10\n",
      "--------------------------------\n",
      "('newtgingrich', 0.021400235291276357)\n",
      "('Lrihendry', 0.020689246259901033)\n",
      "('SheriffClarke', 0.019770648348974625)\n",
      "('RealAlexJones', 0.014499334210190236)\n",
      "('NetworksManager', 0.01427575920113994)\n",
      "('roycan79', 0.014254517089412356)\n",
      "('AnnCoulter', 0.012620751661421334)\n",
      "('singernews', 0.009460228118050123)\n",
      "('HeyTammyBruce', 0.008704255065744206)\n",
      "('joelpollak', 0.008630992302699661)\n",
      "['newtgingrich', 'Lrihendry', 'SheriffClarke', 'RealAlexJones', 'NetworksManager', 'roycan79', 'AnnCoulter', 'singernews', 'HeyTammyBruce', 'joelpollak']\n",
      "HITS algorithm\n",
      "TOP 10\n",
      "--------------------------------\n",
      "('Lrihendry', 0.01312054799340763)\n",
      "('newtgingrich', 0.012288112776229734)\n",
      "('SheriffClarke', 0.011669075844312588)\n",
      "('NetworksManager', 0.00969023854463154)\n",
      "('roycan79', 0.009194361485282574)\n",
      "('RealAlexJones', 0.009152770084452966)\n",
      "('AnnCoulter', 0.007467862166366947)\n",
      "('Scarlett210', 0.00580000525340989)\n",
      "('gs777gs777', 0.005739200170221909)\n",
      "('Juliet777777', 0.005558064342073505)\n",
      "['Lrihendry', 'newtgingrich', 'SheriffClarke', 'NetworksManager', 'roycan79', 'RealAlexJones', 'AnnCoulter', 'Scarlett210', 'gs777gs777', 'Juliet777777']\n",
      "?????????????????????????????\n",
      "?????????????????????????????\n",
      "?????????????????????????????\n",
      "PageRank algorithm\n",
      "TOP 10\n",
      "--------------------------------\n",
      "('riotwomennn', 0.013178630558422657)\n",
      "('mmpadellan', 0.012806803395020548)\n",
      "('DavidCornDC', 0.01232181547458221)\n",
      "('GeorgeTakei', 0.011436260986485283)\n",
      "('TheBaxterBean', 0.01081665917280748)\n",
      "('timkaine', 0.009270758266038126)\n",
      "('docrocktex26', 0.009265229477633648)\n",
      "('Slate', 0.008592350311169065)\n",
      "('Lee_in_Iowa', 0.008059476779676462)\n",
      "('KevinDarryl', 0.007570221436990444)\n",
      "['riotwomennn', 'mmpadellan', 'DavidCornDC', 'GeorgeTakei', 'TheBaxterBean', 'timkaine', 'docrocktex26', 'Slate', 'Lee_in_Iowa', 'KevinDarryl']\n",
      "HITS algorithm\n",
      "TOP 10\n",
      "--------------------------------\n",
      "('riotwomennn', 0.009289815466214265)\n",
      "('mmpadellan', 0.008554061589586406)\n",
      "('DavidCornDC', 0.007898025150041392)\n",
      "('TheBaxterBean', 0.00733555661340397)\n",
      "('GeorgeTakei', 0.007241508787525514)\n",
      "('Lee_in_Iowa', 0.0069230742932428705)\n",
      "('docrocktex26', 0.006829641141880854)\n",
      "('Varidienne', 0.006690666242048946)\n",
      "('KevinDarryl', 0.006315929990767412)\n",
      "('timkaine', 0.005975807788794711)\n",
      "['riotwomennn', 'mmpadellan', 'DavidCornDC', 'TheBaxterBean', 'GeorgeTakei', 'Lee_in_Iowa', 'docrocktex26', 'Varidienne', 'KevinDarryl', 'timkaine']\n",
      "?????????????????????????????\n",
      "?????????????????????????????\n",
      "?????????????????????????????\n",
      "PageRank algorithm\n",
      "TOP 10\n",
      "--------------------------------\n",
      "('Heminator', 0.5)\n",
      "('Oenonewept', 0.5)\n",
      "['Heminator', 'Oenonewept']\n",
      "HITS algorithm\n",
      "TOP 10\n",
      "--------------------------------\n",
      "('Heminator', 0.5)\n",
      "('Oenonewept', 0.5)\n",
      "['Heminator', 'Oenonewept']\n",
      "?????????????????????????????\n",
      "?????????????????????????????\n",
      "?????????????????????????????\n",
      "PageRank algorithm\n",
      "TOP 10\n",
      "--------------------------------\n",
      "('Szrti716', 1.0)\n",
      "['Szrti716']\n",
      "?????????????????????????????\n",
      "?????????????????????????????\n",
      "?????????????????????????????\n",
      "PageRank algorithm\n",
      "TOP 10\n",
      "--------------------------------\n",
      "('HotlineJosh', 1.0)\n",
      "['HotlineJosh']\n",
      "?????????????????????????????\n",
      "?????????????????????????????\n",
      "?????????????????????????????\n",
      "PageRank algorithm\n",
      "TOP 10\n",
      "--------------------------------\n",
      "('RobGeorge', 1.0)\n",
      "['RobGeorge']\n",
      "?????????????????????????????\n",
      "?????????????????????????????\n",
      "?????????????????????????????\n",
      "PageRank algorithm\n",
      "TOP 10\n",
      "--------------------------------\n",
      "('vintagegoddess', 1.0)\n",
      "['vintagegoddess']\n",
      "Average success: 98.9990859936225\n",
      "[[630  35]\n",
      " [ 19 829]]\n"
     ]
    },
    {
     "data": {
      "image/png": "[encoded data removed]",
      "text/plain": [
       "<matplotlib.figure.Figure at 0x1c3687f9828>"
      ]
     },
     "metadata": {},
     "output_type": "display_data"
    },
    {
     "name": "stdout",
     "output_type": "stream",
     "text": [
      "21008\n",
      "@@@ ITERATION: 20 @@@\n",
      "\n",
      "\n",
      "1\n",
      "2\n",
      "3\n",
      "4\n",
      "5\n",
      "6\n",
      "7\n",
      "8\n",
      "9\n",
      "10\n",
      "11\n",
      "12\n",
      "13\n",
      "14\n",
      "15\n",
      "16\n",
      "17\n",
      "18\n",
      "19\n",
      "20\n",
      "21\n",
      "22\n",
      "23\n",
      "24\n",
      "TIME: 4247.587440515937\n",
      "?????????????????????????????\n",
      "?????????????????????????????\n",
      "?????????????????????????????\n",
      "PageRank algorithm\n",
      "TOP 10\n",
      "--------------------------------\n",
      "('newtgingrich', 0.021262293653381822)\n",
      "('Lrihendry', 0.020627800816728298)\n",
      "('SheriffClarke', 0.019722161469272595)\n",
      "('RealAlexJones', 0.01440348998195661)\n",
      "('NetworksManager', 0.014254315249156478)\n",
      "('roycan79', 0.014229449350020094)\n",
      "('AnnCoulter', 0.012630704302728944)\n",
      "('singernews', 0.009611772132141172)\n",
      "('HeyTammyBruce', 0.008715611134004765)\n",
      "('joelpollak', 0.008596811240440688)\n",
      "['newtgingrich', 'Lrihendry', 'SheriffClarke', 'RealAlexJones', 'NetworksManager', 'roycan79', 'AnnCoulter', 'singernews', 'HeyTammyBruce', 'joelpollak']\n",
      "HITS algorithm\n",
      "TOP 10\n",
      "--------------------------------\n",
      "('Lrihendry', 0.013084185412513182)\n",
      "('newtgingrich', 0.01223391348743046)\n",
      "('SheriffClarke', 0.011640829280987558)\n",
      "('NetworksManager', 0.009669124948574491)\n",
      "('roycan79', 0.009186666051708082)\n",
      "('RealAlexJones', 0.009116731447553936)\n",
      "('AnnCoulter', 0.007432217746475381)\n",
      "('Scarlett210', 0.00579612224937206)\n",
      "('gs777gs777', 0.005718583792310398)\n",
      "('Juliet777777', 0.005534638512724513)\n",
      "['Lrihendry', 'newtgingrich', 'SheriffClarke', 'NetworksManager', 'roycan79', 'RealAlexJones', 'AnnCoulter', 'Scarlett210', 'gs777gs777', 'Juliet777777']\n",
      "?????????????????????????????\n",
      "?????????????????????????????\n",
      "?????????????????????????????\n",
      "PageRank algorithm\n",
      "TOP 10\n",
      "--------------------------------\n",
      "('riotwomennn', 0.013165663861253835)\n",
      "('mmpadellan', 0.012800927501173823)\n",
      "('DavidCornDC', 0.012340962791802024)\n",
      "('GeorgeTakei', 0.011508057858985595)\n",
      "('TheBaxterBean', 0.010783949518814341)\n",
      "('timkaine', 0.009273772290550491)\n",
      "('docrocktex26', 0.009237432664335854)\n",
      "('Slate', 0.008554567625137064)\n",
      "('Lee_in_Iowa', 0.008034063286431832)\n",
      "('KevinDarryl', 0.007548701944311027)\n",
      "['riotwomennn', 'mmpadellan', 'DavidCornDC', 'GeorgeTakei', 'TheBaxterBean', 'timkaine', 'docrocktex26', 'Slate', 'Lee_in_Iowa', 'KevinDarryl']\n",
      "HITS algorithm\n",
      "TOP 10\n",
      "--------------------------------\n",
      "('riotwomennn', 0.009322463700127697)\n",
      "('mmpadellan', 0.008589218309431096)\n",
      "('DavidCornDC', 0.007968821237793215)\n",
      "('GeorgeTakei', 0.007317113981379121)\n",
      "('TheBaxterBean', 0.007294778548496983)\n",
      "('Lee_in_Iowa', 0.006897002765523807)\n",
      "('docrocktex26', 0.006808159115288752)\n",
      "('Varidienne', 0.006660114461296011)\n",
      "('KevinDarryl', 0.0062791909368125854)\n",
      "('timkaine', 0.006026518489450861)\n",
      "['riotwomennn', 'mmpadellan', 'DavidCornDC', 'GeorgeTakei', 'TheBaxterBean', 'Lee_in_Iowa', 'docrocktex26', 'Varidienne', 'KevinDarryl', 'timkaine']\n",
      "?????????????????????????????\n",
      "?????????????????????????????\n",
      "?????????????????????????????\n",
      "PageRank algorithm\n",
      "TOP 10\n",
      "--------------------------------\n",
      "('kleegrubaugh', 1.0)\n",
      "['kleegrubaugh']\n",
      "Average success: 97.51851435565045\n",
      "[[630  35]\n",
      " [ 22 826]]\n"
     ]
    },
    {
     "data": {
      "image/png": "[encoded data removed]",
      "text/plain": [
       "<matplotlib.figure.Figure at 0x1c3191d9ac8>"
      ]
     },
     "metadata": {},
     "output_type": "display_data"
    },
    {
     "name": "stdout",
     "output_type": "stream",
     "text": [
      "21008\n"
     ]
    }
   ],
   "source": [
    "global G\n",
    "iterList = [500, 250, 100, 50, 20]\n",
    "for itera in iterList:\n",
    "    print(\"@@@ ITERATION: \" + str(itera) + \" @@@\\n\\n\")\n",
    "    addAfter1 = runAlgorithm(itera)\n",
    "    statistics(nx.connected_component_subgraphs(G))\n",
    "    G.add_edges_from(addAfter1)\n",
    "    print(len(G.edges()))\n",
    "    winsound.Beep(450, 2000)"
   ]
  }
 ],
 "metadata": {
  "kernelspec": {
   "display_name": "Python 3",
   "language": "python",
   "name": "python3"
  },
  "language_info": {
   "codemirror_mode": {
    "name": "ipython",
    "version": 3
   },
   "file_extension": ".py",
   "mimetype": "text/x-python",
   "name": "python",
   "nbconvert_exporter": "python",
   "pygments_lexer": "ipython3",
   "version": "3.6.0"
  }
 },
 "nbformat": 4,
 "nbformat_minor": 2
}
