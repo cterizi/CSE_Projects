{
 "cells": [
  {
   "cell_type": "code",
   "execution_count": 1,
   "metadata": {
    "collapsed": true
   },
   "outputs": [],
   "source": [
    "import winsound \n",
    "import time"
   ]
  },
  {
   "cell_type": "code",
   "execution_count": 5,
   "metadata": {
    "collapsed": true
   },
   "outputs": [],
   "source": [
    "def getTagsHandles(x):\n",
    "    symbols = [' ', '\\n', ',', '.', '/', '//', '&', '?', ';', '[', ']', '!', ':', '•', '\\\\', ')']\n",
    "    index = 0\n",
    "    word = \"\"\n",
    "    hh = []\n",
    "    \n",
    "    while(index < len(x)):\n",
    "        if(x[index] == \"@\" or x[index] == \"#\"):\n",
    "            if(word == \"\"):\n",
    "                word = word + x[index]\n",
    "            else:\n",
    "                if(len(word) == 1):\n",
    "                    word = \"\" + x[index]\n",
    "                else:\n",
    "                    hh.append(word)\n",
    "                    word = \"\"\n",
    "                    continue\n",
    "        elif(x[index] in symbols or ord(x[index]) == 8230):\n",
    "            if(word != \"\"):\n",
    "                hh.append(word)\n",
    "                word = \"\"\n",
    "        else:\n",
    "            if(word == \"\"):\n",
    "                index = index + 1\n",
    "                continue\n",
    "            else:\n",
    "                word = word + x[index]\n",
    "\n",
    "        index = index + 1\n",
    "    if(len(word) > 1):\n",
    "        hh.append(word)\n",
    "        \n",
    "    return (hh)"
   ]
  },
  {
   "cell_type": "code",
   "execution_count": 102,
   "metadata": {
    "collapsed": true
   },
   "outputs": [],
   "source": [
    "import binascii\n",
    "\n",
    "def hashString(s):\n",
    "    s = s.replace(\",\", \"\")\n",
    "    b = s.encode('ascii')\n",
    "    h = binascii.crc32(b) & 0xffffffff\n",
    "    return h"
   ]
  },
  {
   "cell_type": "code",
   "execution_count": 13,
   "metadata": {
    "collapsed": false
   },
   "outputs": [
    {
     "name": "stdout",
     "output_type": "stream",
     "text": [
      "1000\n",
      "5000\n",
      "10000\n",
      "20000\n",
      "50000\n",
      "200000\n",
      "300000\n",
      "1000000\n",
      "2000000\n",
      "3000000\n",
      "4000000\n",
      "5000000\n",
      "TIME: 3273.710252245943 seconds\n",
      "Numbe of total user: 199996\n",
      "Numbe of user that have >10 tweets: 70608\n"
     ]
    }
   ],
   "source": [
    "file = open(\"clinton_trump_tweets.txt\", \"r\")\n",
    "\n",
    "start = time.clock()\n",
    "userIDToUsernameDictionary = {}\n",
    "usernameTouserIDDictionary = {}\n",
    "countOfTweetsPerUser = {}\n",
    "hashtagHandleDictionary = {}\n",
    "otherHHDictionary = {}\n",
    "\n",
    "c = 0\n",
    "\n",
    "for line in file:\n",
    "    c = c + 1\n",
    "    if(c == 1000 or c == 5000 or c == 10000 or c == 20000 or c == 50000 or c == 200000 or c == 300000 or c == 1000000 or c == 2000000 or c == 3000000 or c == 4000000 or c == 5000000 or c == 6000000):\n",
    "        print(c)\n",
    "    line = line.replace('\\n', \"\")\n",
    "    splittedTweet = line.split(\"\\t\")\n",
    "    for items in range(len(splittedTweet)):\n",
    "        if(splittedTweet[items].isdigit()):\n",
    "            username = splittedTweet[items - 1]\n",
    "            userID = str(splittedTweet[items])\n",
    "            hhList = getTagsHandles(splittedTweet[-1])\n",
    "            otherHH = getTagsHandles(splittedTweet[items + 4])\n",
    "            if(username in otherHHDictionary):\n",
    "                otherHHDictionary[username] = otherHHDictionary[username] + otherHH\n",
    "            else:\n",
    "                otherHHDictionary[username] = otherHH\n",
    "            if(username in hashtagHandleDictionary):\n",
    "                hashtagHandleDictionary[username] = hashtagHandleDictionary[username] + hhList\n",
    "            else:\n",
    "                hashtagHandleDictionary[username] = hhList\n",
    "            if(not(userID in userIDToUsernameDictionary)):\n",
    "                userIDToUsernameDictionary[userID] = username\n",
    "                usernameTouserIDDictionary[username] = userID\n",
    "            if(username in countOfTweetsPerUser):\n",
    "                countOfTweetsPerUser[username] = countOfTweetsPerUser[username] + 1\n",
    "            else:\n",
    "                countOfTweetsPerUser[username] = 1\n",
    "            break\n",
    "    \n",
    "file.close()\n",
    "end = time.clock()\n",
    "print(\"TIME: \" + str(end-start) + \" seconds\")\n",
    "print(\"Numbe of total user: \" + str(len(userIDToUsernameDictionary)))\n",
    "\n",
    "nameOfUsersThatLess10Tweet = []\n",
    "for i in countOfTweetsPerUser:\n",
    "    if(countOfTweetsPerUser[i] <= 10):\n",
    "        nameOfUsersThatLess10Tweet.append(i)\n",
    "\n",
    "print(\"Numbe of user that have >10 tweets: \" + str(len(countOfTweetsPerUser) - len(nameOfUsersThatLess10Tweet)))\n",
    "winsound.Beep(450, 2000)"
   ]
  },
  {
   "cell_type": "code",
   "execution_count": 15,
   "metadata": {
    "collapsed": true
   },
   "outputs": [],
   "source": [
    "for i in nameOfUsersThatLess10Tweet:\n",
    "    usernameTouserIDDictionary.pop(i, None)\n",
    "    hashtagHandleDictionary.pop(i, None)\n",
    "    otherHHDictionary.pop(i, None)\n",
    "\n",
    "for i in hashtagHandleDictionary:\n",
    "    hashtagHandleDictionary[i] = list(set(hashtagHandleDictionary[i]))\n",
    "    \n",
    "for i in otherHHDictionary:\n",
    "    otherHHDictionary[i] = list(set(otherHHDictionary[i]))"
   ]
  },
  {
   "cell_type": "code",
   "execution_count": 16,
   "metadata": {
    "collapsed": false
   },
   "outputs": [
    {
     "name": "stdout",
     "output_type": "stream",
     "text": [
      "userIDToUsernameDictionary\n",
      "1519696717: Cebel6\n",
      "#####################\n",
      "usernameTouserIDDictionary\n",
      "Cebel6: 1519696717\n",
      "#####################\n",
      "countOfTweetsPerUser\n",
      "Cebel6: 50\n",
      "#####################\n",
      "hashtagHandleDictionary\n",
      "Cebel6: ['@wholehogsports', '@Stevenwhirsch99', '@SportsCenter', '@realDonaldTrump', '@m0E_tv', '@DannyWest1', '@DreGreenlaw', '@CoachJimmyDykes', '#WorldSeries', '#ClintonCrimeSynd', '@RazorbackMBB', '#sorrynotsorry', '@ChefBoyRTay', '@cleveland19news', '@AccGoomba', '#RallyTogether', '@OnFireAnders', '#WeinerGate', '@ItsFoodPorn', '@SECNetwork', '@AnimaIposts', '@SuthixRogue', '@RyanFolkes', '@SportsTalkwBo', '@maddow', '@WarcraftDevs', '@nataliemancia', '@CuzzCoulter', '@Cloud9', '#HillarysEmails', '@littlehooch94', '#CrookedHillary', '@TomCottonAR', '@Sativ_BH', '@MLBONFOX', '@HLTVorg', '@NWAJimmy', '@Alisha12287', '@NBCNews', '#DrainTheSwamp', '@KentuckyMBB', '@D_Hannahs', '@Shuttlecasts', '@MarkDice', '@MattVVA', '@PatBradley22', '@C_tWINO', '#hillarysemails', '@morejordans', '@Thooorin', '@CNN', '@basedmex', '#ESLProLeague', '#Hillarys']\n",
      "#####################\n",
      "otherHHDictionary\n",
      "Cebel6: ['#Uncommon']\n"
     ]
    }
   ],
   "source": [
    "print(\"userIDToUsernameDictionary\")\n",
    "for i in userIDToUsernameDictionary:\n",
    "    print(i + \": \" + str(userIDToUsernameDictionary[i]))\n",
    "    break\n",
    "print(\"#####################\")\n",
    "print(\"usernameTouserIDDictionary\")\n",
    "for i in usernameTouserIDDictionary:\n",
    "    print(i + \": \" + str(usernameTouserIDDictionary[i]))\n",
    "    break\n",
    "print(\"#####################\")\n",
    "print(\"countOfTweetsPerUser\")\n",
    "for i in countOfTweetsPerUser:\n",
    "    print(i + \": \" + str(countOfTweetsPerUser[i]))\n",
    "    break\n",
    "print(\"#####################\")\n",
    "print(\"hashtagHandleDictionary\")\n",
    "for i in hashtagHandleDictionary:\n",
    "    print(i + \": \" + str(hashtagHandleDictionary[i]))\n",
    "    break\n",
    "print(\"#####################\")\n",
    "print(\"otherHHDictionary\")\n",
    "for i in otherHHDictionary:\n",
    "    print(i + \": \" + str(otherHHDictionary[i]))\n",
    "    break"
   ]
  },
  {
   "cell_type": "code",
   "execution_count": 85,
   "metadata": {
    "collapsed": false
   },
   "outputs": [
    {
     "name": "stdout",
     "output_type": "stream",
     "text": [
      "1000\n",
      "2000\n",
      "5000\n",
      "10000\n",
      "20000\n",
      "50000\n",
      "100000\n",
      "TIME: 4.1127590079195215 seconds\n",
      "5 users that follow Trump: ['jj_4884', 'vigilant_Amey', 'kaceyjoyner', 'elise_vendrone', 'robertncheek']\n",
      "5 users that follow Clinton: ['lateshakharizma', 'AvecAnneHidalgo', 'BluntBong', 'craigrettig', 'seeritarun']\n",
      "70596\n",
      "Follow Trump: 48.46733525978809 %\n",
      "Follow Clinton: 51.53266474021191 %\n"
     ]
    }
   ],
   "source": [
    "file = open(\"clinton_trump_user_classes.txt\", \"r\")\n",
    "\n",
    "start = time.clock()\n",
    "trumpFollowers = []\n",
    "clintonFollowers = []\n",
    "trumpFollowersCounter = 0\n",
    "clintonFollowersCounter = 0\n",
    "setNamesToDelete = set(nameOfUsersThatLess10Tweet)\n",
    "idSet = set(userIDToUsernameDictionary.keys())\n",
    "\n",
    "c = 0\n",
    "for line in file:\n",
    "    c = c + 1\n",
    "    if(c == 1000 or c == 2000 or c == 5000 or c == 10000 or c == 20000 or c == 50000 or c == 100000 or c == 500000 or c == 1000000 or c == 1500000 or c == 2000000):\n",
    "        print(c)\n",
    "    line = line.replace(\"\\n\", \"\")\n",
    "    text = line.split(\"\\t\")\n",
    "    idValue = text[0]\n",
    "    value = int(text[1])\n",
    "    if(not(idValue in idSet)):\n",
    "        continue\n",
    "    username = userIDToUsernameDictionary[idValue]\n",
    "    if(username in setNamesToDelete):\n",
    "        continue\n",
    "    if(value == 0):\n",
    "        trumpFollowersCounter = trumpFollowersCounter + 1\n",
    "        trumpFollowers.append(username)\n",
    "    else:\n",
    "        clintonFollowersCounter = clintonFollowersCounter + 1\n",
    "        clintonFollowers.append(username)\n",
    "\n",
    "file.close()\n",
    "end = time.clock()\n",
    "\n",
    "print(\"TIME: \" + str(end - start) + \" seconds\")\n",
    "print(\"5 users that follow Trump: \" + str(trumpFollowers[0:5]))\n",
    "print(\"5 users that follow Clinton: \" + str(clintonFollowers[0:5]))\n",
    "\n",
    "totalUsers = trumpFollowersCounter + clintonFollowersCounter\n",
    "print(totalUsers)\n",
    "posostoTrump = (float(trumpFollowersCounter) / totalUsers) * 100\n",
    "posostoClinton = (float(clintonFollowersCounter) / totalUsers) * 100\n",
    "\n",
    "print(\"Follow Trump: \" + str(posostoTrump) + \" %\")\n",
    "print(\"Follow Clinton: \" + str(posostoClinton) + \" %\")\n",
    "\n",
    "trumpFollowers = set(trumpFollowers)\n",
    "clintonFollowers = set(clintonFollowers)\n",
    "winsound.Beep(450, 2000)"
   ]
  },
  {
   "cell_type": "markdown",
   "metadata": {},
   "source": [
    "Den vrika gia 12 atoma poion akolouthoun. Opote auta ta 12 atoma tha na diagrapsw kai apo tis eggrafes mou pio panw."
   ]
  },
  {
   "cell_type": "code",
   "execution_count": 28,
   "metadata": {
    "collapsed": false
   },
   "outputs": [],
   "source": [
    "allNames = set(trumpFollowers + clintonFollowers)\n",
    "beforeNames = hashtagHandleDictionary.keys()\n",
    "notIn = []\n",
    "\n",
    "for i in beforeNames:\n",
    "    if(not(i in allNames)):\n",
    "        notIn.append(i)\n",
    "        \n",
    "for i in notIn:\n",
    "    usernameTouserIDDictionary.pop(i, None)\n",
    "    hashtagHandleDictionary.pop(i, None)\n",
    "    otherHHDictionary.pop(i, None)"
   ]
  },
  {
   "cell_type": "markdown",
   "metadata": {},
   "source": [
    "Gia ton kathe xrhsth epomenws exw vrei to userId tou, apo to status description ta hashtags/handles, apo to keimeno ta hashtags/handles. Xerw epishs an kapoios apo aytous akoloythei ton trump h thn clinton. Twra tha vrw apo autous tous xrhstes pou exw an exoun kanei kapoio retweet kai an nai tha krathsw to onoma tou."
   ]
  },
  {
   "cell_type": "code",
   "execution_count": 50,
   "metadata": {
    "collapsed": false
   },
   "outputs": [
    {
     "name": "stdout",
     "output_type": "stream",
     "text": [
      "TIME: 411.6972620025117 seconds\n"
     ]
    }
   ],
   "source": [
    "file = open(\"clinton_trump_tweets.txt\", \"r\")\n",
    "\n",
    "start = time.clock()\n",
    "finalNames = set(usernameTouserIDDictionary.keys())\n",
    "retweetDictionary = {}\n",
    "\n",
    "for line in file:\n",
    "    line = line.replace('\\n', \"\")\n",
    "    splittedTweet = line.split(\"\\t\")\n",
    "    for items in range(len(splittedTweet)):\n",
    "        if(splittedTweet[items].isdigit()):\n",
    "            username = splittedTweet[items - 1]\n",
    "            if(username in finalNames):\n",
    "                if(\"RT \" in splittedTweet[-1]):\n",
    "                    rtSplit = splittedTweet[-1].split(\" \")\n",
    "                    retweetName = rtSplit[1].replace(\":\", \"\")\n",
    "                    if(username in retweetDictionary):\n",
    "                        retweetDictionary[username] = retweetDictionary[username] + [retweetName]\n",
    "                    else:\n",
    "                        retweetDictionary[username] = [retweetName]\n",
    "                else:\n",
    "                    retweetDictionary[username] = []\n",
    "            break\n",
    "        \n",
    "file.close()\n",
    "end = time.clock()\n",
    "print(\"TIME: \" + str(end - start) + \" seconds\")\n",
    "winsound.Beep(450, 2000)"
   ]
  },
  {
   "cell_type": "code",
   "execution_count": 51,
   "metadata": {
    "collapsed": false
   },
   "outputs": [
    {
     "name": "stdout",
     "output_type": "stream",
     "text": [
      "#####################\n",
      "retweetDictionary\n",
      "Cebel6: []\n",
      "Cookiemuffen: ['@wikileaks']\n",
      "nolaguy_phd: []\n",
      "marksnark: ['@JanMurphy', '@ericgeller']\n",
      "aaronjhoddinott: ['@pinnacledigest', '@TeslaMotors', '@baseballcrank', '@zerohedge']\n"
     ]
    }
   ],
   "source": [
    "print(\"#####################\")\n",
    "print(\"retweetDictionary\")\n",
    "c = 0\n",
    "for i in retweetDictionary:\n",
    "    c = c + 1\n",
    "    if(c == 6):\n",
    "        break\n",
    "    print(i + \": \" + str(retweetDictionary[i]))"
   ]
  },
  {
   "cell_type": "code",
   "execution_count": 70,
   "metadata": {
    "collapsed": false
   },
   "outputs": [
    {
     "name": "stdout",
     "output_type": "stream",
     "text": [
      "TIME: 133.86276685664416 seconds\n",
      "#####################\n",
      "locationDictionary\n",
      "Cebel6: Little Rock, Arkansas\n",
      "Cookiemuffen: The American South\n",
      "nolaguy_phd: \n",
      "marksnark: Pittsburgh\n",
      "aaronjhoddinott: Canada\n"
     ]
    }
   ],
   "source": [
    "file = open(\"clinton_trump_tweets.txt\", \"r\")\n",
    "\n",
    "start = time.clock()\n",
    "finalNames = set(usernameTouserIDDictionary.keys())\n",
    "locationDictionary = {}\n",
    "\n",
    "for line in file:\n",
    "    line = line.replace('\\n', \"\")\n",
    "    splittedTweet = line.split(\"\\t\")\n",
    "    for items in range(len(splittedTweet)):\n",
    "        if(splittedTweet[items].isdigit()):\n",
    "            username = splittedTweet[items - 1]\n",
    "            location = splittedTweet[items + 3]\n",
    "            if(username in finalNames):\n",
    "                locationDictionary[username] = location\n",
    "            break\n",
    "        \n",
    "file.close()\n",
    "end = time.clock()\n",
    "print(\"TIME: \" + str(end - start) + \" seconds\")\n",
    "\n",
    "print(\"#####################\")\n",
    "print(\"locationDictionary\")\n",
    "c = 0\n",
    "for i in locationDictionary:\n",
    "    c = c + 1\n",
    "    if(c == 6):\n",
    "        break\n",
    "    print(i + \": \" + str(locationDictionary[i]))\n",
    "    \n",
    "winsound.Beep(450, 2000)"
   ]
  },
  {
   "cell_type": "code",
   "execution_count": 75,
   "metadata": {
    "collapsed": false
   },
   "outputs": [],
   "source": [
    "checkC = []\n",
    "step = 1000\n",
    "sumN = 71000\n",
    "c = 0\n",
    "\n",
    "while c <= sumN:\n",
    "    checkC.append(c)\n",
    "    c = c + step\n",
    "    \n",
    "checkC = set(checkC)"
   ]
  },
  {
   "cell_type": "code",
   "execution_count": 78,
   "metadata": {
    "collapsed": false
   },
   "outputs": [
    {
     "name": "stdout",
     "output_type": "stream",
     "text": [
      "Name : Cebel\n",
      "ScreenName : Cebel6\n",
      "UserID : 1519696717\n",
      "FollowersCount : 132\n",
      "FriendsCount : 263\n",
      "Location : Little Rock, Arkansas\n",
      "Description : Arkansas Razorback Fan Just trying to be #Uncommon one 1-0 day at a time.\n",
      "CreatedAt : Sat Oct 29 08:10:06 EEST 2016\n",
      "StatusID : 792232017094119425\n",
      "Language : en\n",
      "Place : null\n",
      "RetweetCount : 0\n",
      "FavoriteCount : 1\n",
      "Text : @NWAJimmy I've read it now though brother. Was pretty spot on Lots of bright spots but a lot to work on. Exactly as an exhibition should be!\n"
     ]
    }
   ],
   "source": [
    "file = open(\"clinton_trump_tweets.txt\", \"r\")\n",
    "\n",
    "for line in file:\n",
    "    line = line.replace('\\n', \"\")\n",
    "    splittedTweet = line.split(\"\\t\")\n",
    "    l = \"Name, ScreenName, UserID, FollowersCount, FriendsCount, Location, Description, CreatedAt, StatusID, Language, Place, RetweetCount, FavoriteCount, Text\"\n",
    "    l = l.split(\", \")\n",
    "    for i in range(len(splittedTweet)):\n",
    "        print(l[i] + \" : \" + splittedTweet[i])\n",
    "    break\n",
    " \n",
    "file.close()"
   ]
  },
  {
   "cell_type": "code",
   "execution_count": null,
   "metadata": {
    "collapsed": true
   },
   "outputs": [],
   "source": []
  },
  {
   "cell_type": "markdown",
   "metadata": {},
   "source": [
    "Statistika gia to Location - Paizei shmantiko rolo to location san feature?"
   ]
  },
  {
   "cell_type": "code",
   "execution_count": 98,
   "metadata": {
    "collapsed": false
   },
   "outputs": [
    {
     "name": "stdout",
     "output_type": "stream",
     "text": [
      "24355\n",
      ": [10608, 7302]\n",
      "San Francisco, CA: [30, 200]\n",
      "New York City: [30, 172]\n",
      "United States: [338, 202]\n",
      "Florida, USA: [110, 52]\n",
      "New York, NY: [93, 395]\n",
      "Atlanta, GA: [56, 122]\n",
      "Los Angeles, CA: [75, 390]\n",
      "Seattle, WA: [42, 159]\n",
      "Austin, TX: [54, 136]\n",
      "London: [104, 286]\n",
      "Portland, OR: [25, 120]\n",
      "Chicago: [75, 217]\n",
      "Washington, DC: [64, 419]\n",
      "Texas, USA: [105, 40]\n",
      "San Francisco: [18, 132]\n",
      "Boston, MA: [49, 173]\n",
      "Los Angeles: [57, 259]\n",
      "Seattle: [13, 89]\n",
      "NYC: [54, 204]\n",
      "New York: [110, 206]\n",
      "Chicago, IL: [82, 232]\n",
      "Washington, D.C.: [17, 90]\n",
      "Toronto: [37, 108]\n",
      "Brooklyn, NY: [22, 192]\n",
      "Oakland, CA: [7, 62]\n"
     ]
    }
   ],
   "source": [
    "l = locationDictionary.values()\n",
    "inverseLocation = {}\n",
    "\n",
    "for i in l:\n",
    "    inverseLocation[i] = [0,0]\n",
    "\n",
    "for i in locationDictionary:\n",
    "    loc = locationDictionary[i]\n",
    "    name = i\n",
    "    if(name in trumpFollowers):\n",
    "        inverseLocation[loc][0] = inverseLocation[loc][0] + 1\n",
    "    else:\n",
    "        inverseLocation[loc][1] = inverseLocation[loc][1] + 1\n",
    "\n",
    "print(len(inverseLocation))\n",
    "c = 0\n",
    "for i in inverseLocation:\n",
    "    #c = c + 1\n",
    "    #if(c == 101):\n",
    "    #    break\n",
    "    if(abs(inverseLocation[i][0] - inverseLocation[i][1]) > 50):\n",
    "        print(i + \": \" + str(inverseLocation[i]))\n",
    "winsound.Beep(450, 2000)"
   ]
  },
  {
   "cell_type": "code",
   "execution_count": 96,
   "metadata": {
    "collapsed": false
   },
   "outputs": [
    {
     "name": "stdout",
     "output_type": "stream",
     "text": [
      "17910 \n",
      "Location distance: 0.9752664833522503 %\n"
     ]
    }
   ],
   "source": [
    "distance = 0\n",
    "maxSum = -1\n",
    "\n",
    "for i in inverseLocation:\n",
    "    invList = inverseLocation[i]\n",
    "    d = (1.0 * abs(invList[0] - invList[1])) * sum(invList) / max(invList)\n",
    "    if(sum(invList) > maxSum):\n",
    "        maxSum = sum(invList)\n",
    "    distance = distance + d\n",
    "\n",
    "print(maxSum, maxLoc)\n",
    "print(\"Location distance: \" + str(distance * 10000 / (len(inverseLocation) * maxSum)) + \" %\")\n",
    "\n",
    "winsound.Beep(450, 2000)"
   ]
  },
  {
   "cell_type": "markdown",
   "metadata": {},
   "source": [
    "Tha kanw import kapoies vivliothhkes"
   ]
  },
  {
   "cell_type": "code",
   "execution_count": 99,
   "metadata": {
    "collapsed": false
   },
   "outputs": [
    {
     "name": "stderr",
     "output_type": "stream",
     "text": [
      "C:\\ProgramData\\Anaconda3\\lib\\site-packages\\sklearn\\cross_validation.py:44: DeprecationWarning: This module was deprecated in version 0.18 in favor of the model_selection module into which all the refactored classes and functions are moved. Also note that the interface of the new CV iterators are different from that of this module. This module will be removed in 0.20.\n",
      "  \"This module will be removed in 0.20.\", DeprecationWarning)\n"
     ]
    }
   ],
   "source": [
    "import numpy as np\n",
    "import scipy.sparse as sp_sparse\n",
    "\n",
    "import matplotlib.pyplot as plt\n",
    "\n",
    "import sklearn as sk\n",
    "import sklearn.datasets as sk_data\n",
    "import sklearn.metrics as metrics\n",
    "from sklearn import preprocessing\n",
    "\n",
    "import seaborn as sns\n",
    "\n",
    "%matplotlib inline\n",
    "from sklearn.feature_selection import VarianceThreshold\n",
    "from sklearn.feature_selection import SelectKBest\n",
    "from sklearn.feature_selection import chi2\n",
    "import sklearn.utils as utils\n",
    "from sklearn import tree\n",
    "from sklearn.neighbors import KNeighborsClassifier\n",
    "from sklearn import svm\n",
    "import sklearn.linear_model as linear_model\n",
    "import sklearn.cross_validation as cross_validation"
   ]
  },
  {
   "cell_type": "code",
   "execution_count": 101,
   "metadata": {
    "collapsed": false
   },
   "outputs": [
    {
     "ename": "ValueError",
     "evalue": "setting an array element with a sequence.",
     "output_type": "error",
     "traceback": [
      "\u001b[0;31m---------------------------------------------------------------------------\u001b[0m",
      "\u001b[0;31mValueError\u001b[0m                                Traceback (most recent call last)",
      "\u001b[0;32m<ipython-input-101-b8c921ef4c40>\u001b[0m in \u001b[0;36m<module>\u001b[0;34m()\u001b[0m\n\u001b[1;32m      6\u001b[0m \u001b[1;33m\u001b[0m\u001b[0m\n\u001b[1;32m      7\u001b[0m \u001b[0mdtree\u001b[0m \u001b[1;33m=\u001b[0m \u001b[0mtree\u001b[0m\u001b[1;33m.\u001b[0m\u001b[0mDecisionTreeClassifier\u001b[0m\u001b[1;33m(\u001b[0m\u001b[1;33m)\u001b[0m\u001b[1;33m\u001b[0m\u001b[0m\n\u001b[0;32m----> 8\u001b[0;31m \u001b[0mdtree\u001b[0m \u001b[1;33m=\u001b[0m \u001b[0mdtree\u001b[0m\u001b[1;33m.\u001b[0m\u001b[0mfit\u001b[0m\u001b[1;33m(\u001b[0m\u001b[0mX_train\u001b[0m\u001b[1;33m,\u001b[0m \u001b[0my_train\u001b[0m\u001b[1;33m)\u001b[0m\u001b[1;33m\u001b[0m\u001b[0m\n\u001b[0m\u001b[1;32m      9\u001b[0m \u001b[1;33m\u001b[0m\u001b[0m\n\u001b[1;32m     10\u001b[0m \u001b[1;33m\u001b[0m\u001b[0m\n",
      "\u001b[0;32mC:\\ProgramData\\Anaconda3\\lib\\site-packages\\sklearn\\tree\\tree.py\u001b[0m in \u001b[0;36mfit\u001b[0;34m(self, X, y, sample_weight, check_input, X_idx_sorted)\u001b[0m\n\u001b[1;32m    737\u001b[0m             \u001b[0msample_weight\u001b[0m\u001b[1;33m=\u001b[0m\u001b[0msample_weight\u001b[0m\u001b[1;33m,\u001b[0m\u001b[1;33m\u001b[0m\u001b[0m\n\u001b[1;32m    738\u001b[0m             \u001b[0mcheck_input\u001b[0m\u001b[1;33m=\u001b[0m\u001b[0mcheck_input\u001b[0m\u001b[1;33m,\u001b[0m\u001b[1;33m\u001b[0m\u001b[0m\n\u001b[0;32m--> 739\u001b[0;31m             X_idx_sorted=X_idx_sorted)\n\u001b[0m\u001b[1;32m    740\u001b[0m         \u001b[1;32mreturn\u001b[0m \u001b[0mself\u001b[0m\u001b[1;33m\u001b[0m\u001b[0m\n\u001b[1;32m    741\u001b[0m \u001b[1;33m\u001b[0m\u001b[0m\n",
      "\u001b[0;32mC:\\ProgramData\\Anaconda3\\lib\\site-packages\\sklearn\\tree\\tree.py\u001b[0m in \u001b[0;36mfit\u001b[0;34m(self, X, y, sample_weight, check_input, X_idx_sorted)\u001b[0m\n\u001b[1;32m    120\u001b[0m         \u001b[0mrandom_state\u001b[0m \u001b[1;33m=\u001b[0m \u001b[0mcheck_random_state\u001b[0m\u001b[1;33m(\u001b[0m\u001b[0mself\u001b[0m\u001b[1;33m.\u001b[0m\u001b[0mrandom_state\u001b[0m\u001b[1;33m)\u001b[0m\u001b[1;33m\u001b[0m\u001b[0m\n\u001b[1;32m    121\u001b[0m         \u001b[1;32mif\u001b[0m \u001b[0mcheck_input\u001b[0m\u001b[1;33m:\u001b[0m\u001b[1;33m\u001b[0m\u001b[0m\n\u001b[0;32m--> 122\u001b[0;31m             \u001b[0mX\u001b[0m \u001b[1;33m=\u001b[0m \u001b[0mcheck_array\u001b[0m\u001b[1;33m(\u001b[0m\u001b[0mX\u001b[0m\u001b[1;33m,\u001b[0m \u001b[0mdtype\u001b[0m\u001b[1;33m=\u001b[0m\u001b[0mDTYPE\u001b[0m\u001b[1;33m,\u001b[0m \u001b[0maccept_sparse\u001b[0m\u001b[1;33m=\u001b[0m\u001b[1;34m\"csc\"\u001b[0m\u001b[1;33m)\u001b[0m\u001b[1;33m\u001b[0m\u001b[0m\n\u001b[0m\u001b[1;32m    123\u001b[0m             \u001b[0my\u001b[0m \u001b[1;33m=\u001b[0m \u001b[0mcheck_array\u001b[0m\u001b[1;33m(\u001b[0m\u001b[0my\u001b[0m\u001b[1;33m,\u001b[0m \u001b[0mensure_2d\u001b[0m\u001b[1;33m=\u001b[0m\u001b[1;32mFalse\u001b[0m\u001b[1;33m,\u001b[0m \u001b[0mdtype\u001b[0m\u001b[1;33m=\u001b[0m\u001b[1;32mNone\u001b[0m\u001b[1;33m)\u001b[0m\u001b[1;33m\u001b[0m\u001b[0m\n\u001b[1;32m    124\u001b[0m             \u001b[1;32mif\u001b[0m \u001b[0missparse\u001b[0m\u001b[1;33m(\u001b[0m\u001b[0mX\u001b[0m\u001b[1;33m)\u001b[0m\u001b[1;33m:\u001b[0m\u001b[1;33m\u001b[0m\u001b[0m\n",
      "\u001b[0;32mC:\\ProgramData\\Anaconda3\\lib\\site-packages\\sklearn\\utils\\validation.py\u001b[0m in \u001b[0;36mcheck_array\u001b[0;34m(array, accept_sparse, dtype, order, copy, force_all_finite, ensure_2d, allow_nd, ensure_min_samples, ensure_min_features, warn_on_dtype, estimator)\u001b[0m\n\u001b[1;32m    380\u001b[0m                                       force_all_finite)\n\u001b[1;32m    381\u001b[0m     \u001b[1;32melse\u001b[0m\u001b[1;33m:\u001b[0m\u001b[1;33m\u001b[0m\u001b[0m\n\u001b[0;32m--> 382\u001b[0;31m         \u001b[0marray\u001b[0m \u001b[1;33m=\u001b[0m \u001b[0mnp\u001b[0m\u001b[1;33m.\u001b[0m\u001b[0marray\u001b[0m\u001b[1;33m(\u001b[0m\u001b[0marray\u001b[0m\u001b[1;33m,\u001b[0m \u001b[0mdtype\u001b[0m\u001b[1;33m=\u001b[0m\u001b[0mdtype\u001b[0m\u001b[1;33m,\u001b[0m \u001b[0morder\u001b[0m\u001b[1;33m=\u001b[0m\u001b[0morder\u001b[0m\u001b[1;33m,\u001b[0m \u001b[0mcopy\u001b[0m\u001b[1;33m=\u001b[0m\u001b[0mcopy\u001b[0m\u001b[1;33m)\u001b[0m\u001b[1;33m\u001b[0m\u001b[0m\n\u001b[0m\u001b[1;32m    383\u001b[0m \u001b[1;33m\u001b[0m\u001b[0m\n\u001b[1;32m    384\u001b[0m         \u001b[1;32mif\u001b[0m \u001b[0mensure_2d\u001b[0m\u001b[1;33m:\u001b[0m\u001b[1;33m\u001b[0m\u001b[0m\n",
      "\u001b[0;31mValueError\u001b[0m: setting an array element with a sequence."
     ]
    }
   ],
   "source": [
    "ekxwrhseis = []\n",
    "\n",
    "for i in locationDictionary:\n",
    "    username = i\n",
    "    locat = locationDictionary[i]\n",
    "    locatID = hashString(locat)\n",
    "    newIn = [locatID]\n",
    "\n",
    "X_train = [[ekxwrhseis[0], 1], [ekxwrhseis[1], 14], [ekxwrhseis[2], 15], [ekxwrhseis[3], 15]]\n",
    "y_train = labels\n",
    "\n",
    "dtree = tree.DecisionTreeClassifier()\n",
    "dtree = dtree.fit(X_train, y_train)\n",
    "\n",
    "    \n",
    "X_test = []\n",
    "\n",
    "y_test = []\n",
    "\n",
    "winsound.Beep(450, 2000)"
   ]
  },
  {
   "cell_type": "code",
   "execution_count": null,
   "metadata": {
    "collapsed": true
   },
   "outputs": [],
   "source": []
  },
  {
   "cell_type": "code",
   "execution_count": null,
   "metadata": {
    "collapsed": true
   },
   "outputs": [],
   "source": []
  },
  {
   "cell_type": "code",
   "execution_count": null,
   "metadata": {
    "collapsed": true
   },
   "outputs": [],
   "source": []
  },
  {
   "cell_type": "code",
   "execution_count": 105,
   "metadata": {
    "collapsed": false
   },
   "outputs": [
    {
     "name": "stdout",
     "output_type": "stream",
     "text": [
      "TIME: 1.5495019078443875 seconds\n",
      "########################\n",
      "followDictionary\n",
      "23716167: 1\n"
     ]
    }
   ],
   "source": [
    "file = open(\"clinton_trump_user_classes.txt\", \"r\")\n",
    "\n",
    "start = time.clock()\n",
    "followDictionary = {}\n",
    "\n",
    "for line in file:\n",
    "    line = line.replace(\"\\n\", \"\")\n",
    "    text = line.split(\"\\t\")\n",
    "    idUser = str(text[0])\n",
    "    value = int(text[1])\n",
    "    followDictionary[idUser] = value\n",
    "    \n",
    "file.close()\n",
    "end = time.clock()\n",
    "print(\"TIME: \" + str(end - start) + \" seconds\")\n",
    "\n",
    "print(\"########################\")\n",
    "print(\"followDictionary\")\n",
    "for i in followDictionary:\n",
    "    print(i + \": \" + str(followDictionary[i]))\n",
    "    break\n",
    "winsound.Beep(450, 2000)"
   ]
  },
  {
   "cell_type": "code",
   "execution_count": 108,
   "metadata": {
    "collapsed": false
   },
   "outputs": [
    {
     "name": "stdout",
     "output_type": "stream",
     "text": [
      "TIME: 180.26110775695633 seconds\n"
     ]
    }
   ],
   "source": [
    "file = open(\"clinton_trump_tweets.txt\", \"r\")\n",
    "\n",
    "start = time.clock()\n",
    "data = set([])\n",
    "\n",
    "for line in file:\n",
    "    line = line.replace('\\n', \"\")\n",
    "    splittedTweet = line.split(\"\\t\")\n",
    "    userID = splittedTweet[2]\n",
    "    location = splittedTweet[5]\n",
    "    description = splittedTweet[6]\n",
    "    createdAT = splittedTweet[7]\n",
    "    text = splittedTweet[-1]\n",
    "    newIn = [location, description, createdAT, text, followDictionary[userID]]\n",
    "    data.add(str(newIn))\n",
    "\n",
    "file.close()\n",
    "end = time.clock()\n",
    "print(\"TIME: \" + str(end - start) + \" seconds\")\n",
    "winsound.Beep(450, 2000)"
   ]
  },
  {
   "cell_type": "code",
   "execution_count": null,
   "metadata": {
    "collapsed": true
   },
   "outputs": [],
   "source": [
    "import ast\n",
    "\n",
    "\n",
    "crossValidations = 5\n",
    "size = len(data)/5.0\n",
    "\n",
    "i = 2\n",
    "\n",
    "X_TRAIN = []\n",
    "Y_TRAIN = []\n",
    "\n",
    "testData = []#data[i*size:i*size+size+1]\n",
    "\n",
    "\n",
    "for i in range(0, i*size):\n",
    "    ast.literal_eval(data[i]) #convert str list to list\n",
    "    break\n",
    "\n",
    "for i in range(i*size+size+1, len(data)):\n",
    "    \n",
    "    ast.literal_eval(data[i]) #convert str list to list\n",
    "    \n",
    "    break\n",
    "\n",
    "print(\":AAA\")"
   ]
  },
  {
   "cell_type": "code",
   "execution_count": null,
   "metadata": {
    "collapsed": true
   },
   "outputs": [],
   "source": []
  },
  {
   "cell_type": "code",
   "execution_count": null,
   "metadata": {
    "collapsed": true
   },
   "outputs": [],
   "source": []
  }
 ],
 "metadata": {
  "kernelspec": {
   "display_name": "Python 3",
   "language": "python",
   "name": "python3"
  },
  "language_info": {
   "codemirror_mode": {
    "name": "ipython",
    "version": 3
   },
   "file_extension": ".py",
   "mimetype": "text/x-python",
   "name": "python",
   "nbconvert_exporter": "python",
   "pygments_lexer": "ipython3",
   "version": "3.6.0"
  }
 },
 "nbformat": 4,
 "nbformat_minor": 2
}
