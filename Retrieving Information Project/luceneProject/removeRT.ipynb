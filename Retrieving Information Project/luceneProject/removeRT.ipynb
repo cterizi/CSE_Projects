{
 "cells": [
  {
   "cell_type": "code",
   "execution_count": 9,
   "metadata": {
    "collapsed": false
   },
   "outputs": [
    {
     "name": "stdout",
     "output_type": "stream",
     "text": [
      "tweetCounter: 22891\n"
     ]
    }
   ],
   "source": [
    "import winsound\n",
    "\n",
    "finalTweets = open(\"tweets.txt\", \"w\")\n",
    "\n",
    "rt = 0\n",
    "tweetCounter = 0\n",
    "\n",
    "for fileCounter in range(1, 6):\n",
    "    file = open(\"tweets\" + str(fileCounter) + \".txt\", \"r\")\n",
    "    text = []\n",
    "    temp = \" \"\n",
    "    c = 0\n",
    "    for line in file:\n",
    "        c = c + 1\n",
    "        if(c == 3):\n",
    "            if(not(line.isdigit())):\n",
    "                rt = 1\n",
    "                text = []\n",
    "                continue\n",
    "        if(temp == line):\n",
    "            rt = 1\n",
    "            text = []\n",
    "            continue\n",
    "        temp = line\n",
    "        if(\"null\" in line or \"??\" in line or \"http\" in line):\n",
    "            rt = 1\n",
    "            text = []\n",
    "            continue\n",
    "        if(\"--------------------------\" in line):\n",
    "            rt = 0\n",
    "            for t in text:\n",
    "                finalTweets.write(t)\n",
    "            if(not(len(text) == 0)):\n",
    "                c = 0\n",
    "                tweetCounter = tweetCounter + 1\n",
    "                finalTweets.write(\"--------------------------\" + \"\\n\")\n",
    "            text = []\n",
    "            continue\n",
    "        if(\"RT \" in line):\n",
    "            rt = 1\n",
    "            text = []\n",
    "            continue\n",
    "        if(rt == 0):\n",
    "            text.append(line)\n",
    "    file.close()\n",
    "print(\"tweetCounter: \" + str(tweetCounter))\n",
    "finalTweets.close()\n",
    "winsound.Beep(450, 2000)"
   ]
  },
  {
   "cell_type": "code",
   "execution_count": 10,
   "metadata": {
    "collapsed": true
   },
   "outputs": [],
   "source": [
    "readFile = open(\"tweets.txt\", \"r\")\n",
    "\n",
    "txt = 1\n",
    "file = open(\"C:\\\\Users\\\\Chryssa\\\\Documents\\\\cse\\\\8osemester\\\\anakthshPlhroforias\\\\project\\\\tweetsAsDocument\\\\tweet1.txt\", \"w\")\n",
    "generalCounter = 0\n",
    "\n",
    "for line in readFile:\n",
    "    line = line.replace(\"\\n\", \"\")\n",
    "    if(\"-----\" in line):\n",
    "        txt = txt + 1\n",
    "        generalCounter = generalCounter + 1\n",
    "        if(generalCounter == 11000):\n",
    "            file.close()\n",
    "            break\n",
    "        file.close()\n",
    "        file = open(\"C:\\\\Users\\\\Chryssa\\\\Documents\\\\cse\\\\8osemester\\\\anakthshPlhroforias\\\\project\\\\tweetsAsDocument\\\\tweet\" + str(txt) + \".txt\", \"w\")\n",
    "        continue\n",
    "    file.write(line + \"\\t\")\n",
    "\n",
    "readFile.close()"
   ]
  },
  {
   "cell_type": "code",
   "execution_count": 13,
   "metadata": {
    "collapsed": false
   },
   "outputs": [],
   "source": [
    "import glob\n",
    "import winsound\n",
    "\n",
    "fileNames = glob.glob(\"C:\\\\Users\\\\Chryssa\\\\Documents\\\\cse\\\\8osemester\\\\anakthshPlhroforias\\\\project\\\\tweetsAsDocument\\\\*.txt\")\n",
    "txt = 1\n",
    "for i in fileNames:\n",
    "    file = open(i, \"r\")\n",
    "    writeFile = open(\"C:\\\\Users\\\\Chryssa\\\\Documents\\\\cse\\\\8osemester\\\\anakthshPlhroforias\\\\project\\\\splitTweetWithTabs\\\\tweet\" + str(txt) + \".txt\", \"w\")\n",
    "    for line in file:\n",
    "        line = line.replace(\"\\n\", \"\")\n",
    "        line = line.split(\"\\t\")\n",
    "        if(len(line) < 4):\n",
    "            continue\n",
    "        merge = line[3]\n",
    "        for text in range(4, len(line)):\n",
    "            merge = merge + \" \" + line[text]\n",
    "        hhList = getTagsHandles(merge)\n",
    "        for hh in hhList:\n",
    "            merge = merge.replace(hh, \"\")\n",
    "        writeFile.write(line[0] + \"\\t\" + line[1] + \"\\t\" + \" \".join(hhList) + \"\\t\" + merge + \"\\t\" + str(line[2]) + \"\\t\" + str(line[3]))\n",
    "    txt = txt + 1\n",
    "    writeFile.close()\n",
    "    file.close()\n",
    "winsound.Beep(450, 2000)"
   ]
  },
  {
   "cell_type": "code",
   "execution_count": 2,
   "metadata": {
    "collapsed": true
   },
   "outputs": [],
   "source": [
    "def getTagsHandles(x):\n",
    "    symbols = [' ', '\\n', ',', '.', '/', '//', '&', '?', ';', '[', ']', '!', ':', '•', '\\\\', ')']\n",
    "    index = 0\n",
    "    word = \"\"\n",
    "    hh = []\n",
    "    \n",
    "    while(index < len(x)):\n",
    "        if(x[index] == \"@\" or x[index] == \"#\"):\n",
    "            if(word == \"\"):\n",
    "                word = word + x[index]\n",
    "            else:\n",
    "                if(len(word) == 1):\n",
    "                    word = \"\" + x[index]\n",
    "                else:\n",
    "                    hh.append(word)\n",
    "                    word = \"\"\n",
    "                    continue\n",
    "        elif(x[index] in symbols or ord(x[index]) == 8230):\n",
    "            if(word != \"\"):\n",
    "                hh.append(word)\n",
    "                word = \"\"\n",
    "        else:\n",
    "            if(word == \"\"):\n",
    "                index = index + 1\n",
    "                continue\n",
    "            else:\n",
    "                word = word + x[index]\n",
    "\n",
    "        index = index + 1\n",
    "    if(len(word) > 1):\n",
    "        hh.append(word)\n",
    "        \n",
    "    return (hh)"
   ]
  },
  {
   "cell_type": "code",
   "execution_count": null,
   "metadata": {
    "collapsed": true
   },
   "outputs": [],
   "source": []
  }
 ],
 "metadata": {
  "kernelspec": {
   "display_name": "Python 3",
   "language": "python",
   "name": "python3"
  },
  "language_info": {
   "codemirror_mode": {
    "name": "ipython",
    "version": 3
   },
   "file_extension": ".py",
   "mimetype": "text/x-python",
   "name": "python",
   "nbconvert_exporter": "python",
   "pygments_lexer": "ipython3",
   "version": "3.6.0"
  }
 },
 "nbformat": 4,
 "nbformat_minor": 2
}
